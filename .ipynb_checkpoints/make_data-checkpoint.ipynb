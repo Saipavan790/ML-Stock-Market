{
 "cells": [
  {
   "cell_type": "code",
   "execution_count": 2,
   "id": "ecb33acd-a178-48ae-83d1-9d98620e454e",
   "metadata": {
    "collapsed": true,
    "jupyter": {
     "outputs_hidden": true
    }
   },
   "outputs": [
    {
     "name": "stdout",
     "output_type": "stream",
     "text": [
      "Collecting ta\n",
      "  Downloading ta-0.11.0.tar.gz (25 kB)\n",
      "  Preparing metadata (setup.py): started\n",
      "  Preparing metadata (setup.py): finished with status 'done'\n",
      "Requirement already satisfied: numpy in d:\\apps\\miniconda\\envs\\new_env\\lib\\site-packages (from ta) (1.26.4)\n",
      "Requirement already satisfied: pandas in d:\\apps\\miniconda\\envs\\new_env\\lib\\site-packages (from ta) (2.2.3)\n",
      "Requirement already satisfied: python-dateutil>=2.8.2 in d:\\apps\\miniconda\\envs\\new_env\\lib\\site-packages (from pandas->ta) (2.9.0.post0)\n",
      "Requirement already satisfied: pytz>=2020.1 in d:\\apps\\miniconda\\envs\\new_env\\lib\\site-packages (from pandas->ta) (2024.1)\n",
      "Requirement already satisfied: tzdata>=2022.7 in d:\\apps\\miniconda\\envs\\new_env\\lib\\site-packages (from pandas->ta) (2025.2)\n",
      "Requirement already satisfied: six>=1.5 in d:\\apps\\miniconda\\envs\\new_env\\lib\\site-packages (from python-dateutil>=2.8.2->pandas->ta) (1.17.0)\n",
      "Building wheels for collected packages: ta\n",
      "  Building wheel for ta (setup.py): started\n",
      "  Building wheel for ta (setup.py): finished with status 'done'\n",
      "  Created wheel for ta: filename=ta-0.11.0-py3-none-any.whl size=29497 sha256=07ae09980c714acee566e3616cc15ecd25be1057001d51a62d09252202dfc0db\n",
      "  Stored in directory: c:\\users\\saipa\\appdata\\local\\pip\\cache\\wheels\\5f\\67\\4f\\8a9f252836e053e532c6587a3230bc72a4deb16b03a829610b\n",
      "Successfully built ta\n",
      "Installing collected packages: ta\n",
      "Successfully installed ta-0.11.0\n",
      "Note: you may need to restart the kernel to use updated packages.\n"
     ]
    },
    {
     "name": "stderr",
     "output_type": "stream",
     "text": [
      "  DEPRECATION: Building 'ta' using the legacy setup.py bdist_wheel mechanism, which will be removed in a future version. pip 25.3 will enforce this behaviour change. A possible replacement is to use the standardized build interface by setting the `--use-pep517` option, (possibly combined with `--no-build-isolation`), or adding a `pyproject.toml` file to the source tree of 'ta'. Discussion can be found at https://github.com/pypa/pip/issues/6334\n"
     ]
    }
   ],
   "source": [
    "%pip install ta"
   ]
  },
  {
   "cell_type": "code",
   "execution_count": 1,
   "id": "735fbc8d-6c16-45e1-9d95-a03565cf1b08",
   "metadata": {},
   "outputs": [
    {
     "name": "stderr",
     "output_type": "stream",
     "text": [
      "D:\\Apps\\Miniconda\\envs\\new_env\\lib\\site-packages\\requests\\__init__.py:86: RequestsDependencyWarning: Unable to find acceptable character detection dependency (chardet or charset_normalizer).\n",
      "  warnings.warn(\n"
     ]
    }
   ],
   "source": [
    "import yfinance as yf\n",
    "import numpy as np\n",
    "import pandas as pd\n",
    "import os\n",
    "import datetime\n",
    "pd.options.mode.chained_assignment = None\n",
    "import ta"
   ]
  },
  {
   "cell_type": "code",
   "execution_count": 2,
   "id": "61a3c85c-935a-42e0-8916-a940056a600e",
   "metadata": {},
   "outputs": [],
   "source": [
    "import warnings\n",
    "warnings.filterwarnings('ignore')"
   ]
  },
  {
   "cell_type": "code",
   "execution_count": 3,
   "id": "4541dd8c-f00e-4862-8ef3-9a6b31f30a8b",
   "metadata": {},
   "outputs": [],
   "source": [
    "nifty50_symbols = [\n",
    "    \"ADANIENT.NS\", \"ADANIPORTS.NS\", \"APOLLOHOSP.NS\", \"ASIANPAINT.NS\", \"AXISBANK.NS\",\n",
    "    \"BAJAJ-AUTO.NS\", \"BAJFINANCE.NS\", \"BAJAJFINSV.NS\", \"BEL.NS\", \"BHARTIARTL.NS\",\n",
    "    \"CIPLA.NS\", \"COALINDIA.NS\", \"DRREDDY.NS\", \"EICHERMOT.NS\", \"EICHERMOT.NS\",\n",
    "    \"GRASIM.NS\", \"HCLTECH.NS\", \"HDFCBANK.NS\", \"HDFCLIFE.NS\", \"HEROMOTOCO.NS\",\n",
    "    \"HINDALCO.NS\", \"HINDUNILVR.NS\", \"ICICIBANK.NS\", \"INDUSINDBK.NS\", \"INFY.NS\",\n",
    "    \"ITC.NS\", \"JIOFIN.NS\", \"JSWSTEEL.NS\", \"KOTAKBANK.NS\", \"LT.NS\",\n",
    "    \"M&M.NS\", \"MARUTI.NS\", \"NESTLEIND.NS\", \"NTPC.NS\", \"ONGC.NS\",\n",
    "    \"POWERGRID.NS\", \"RELIANCE.NS\", \"SBILIFE.NS\", \"SHRIRAMFIN.NS\", \"SBIN.NS\",\n",
    "    \"SUNPHARMA.NS\", \"TCS.NS\", \"TATACONSUM.NS\", \"TATAMOTORS.NS\", \"TATASTEEL.NS\",\n",
    "    \"TECHM.NS\", \"TITAN.NS\", \"TRENT.NS\", \"ULTRACEMCO.NS\", \"WIPRO.NS\"\n",
    "]"
   ]
  },
  {
   "cell_type": "code",
   "execution_count": 4,
   "id": "59f30075-8978-49f9-8e1d-0831d0a79a58",
   "metadata": {},
   "outputs": [],
   "source": [
    "data_dir = \"E:\\My_Career\\Projects\\ML_stock_market\\data\"\n",
    "if not os.path.exists(data_dir):\n",
    "    os.makedirs(data_dir)"
   ]
  },
  {
   "cell_type": "code",
   "execution_count": 5,
   "id": "ecc4409a-60ec-4a0f-b315-8c62e33ccdaf",
   "metadata": {},
   "outputs": [],
   "source": [
    "start_dt = '2010-01-01'\n",
    "end_dt = '2025-01-01'"
   ]
  },
  {
   "cell_type": "code",
   "execution_count": 6,
   "id": "edcf9ded-2323-474a-b62b-6605c9fcf211",
   "metadata": {},
   "outputs": [
    {
     "name": "stdout",
     "output_type": "stream",
     "text": [
      "YF.download() has changed argument auto_adjust default to True\n"
     ]
    },
    {
     "name": "stderr",
     "output_type": "stream",
     "text": [
      "[*********************100%***********************]  1 of 1 completed\n"
     ]
    },
    {
     "name": "stdout",
     "output_type": "stream",
     "text": [
      "ADANIENT.NS done\n"
     ]
    },
    {
     "name": "stderr",
     "output_type": "stream",
     "text": [
      "[*********************100%***********************]  1 of 1 completed\n"
     ]
    },
    {
     "name": "stdout",
     "output_type": "stream",
     "text": [
      "ADANIPORTS.NS done\n"
     ]
    },
    {
     "name": "stderr",
     "output_type": "stream",
     "text": [
      "[*********************100%***********************]  1 of 1 completed\n"
     ]
    },
    {
     "name": "stdout",
     "output_type": "stream",
     "text": [
      "APOLLOHOSP.NS done\n"
     ]
    },
    {
     "name": "stderr",
     "output_type": "stream",
     "text": [
      "[*********************100%***********************]  1 of 1 completed\n"
     ]
    },
    {
     "name": "stdout",
     "output_type": "stream",
     "text": [
      "ASIANPAINT.NS done\n"
     ]
    },
    {
     "name": "stderr",
     "output_type": "stream",
     "text": [
      "[*********************100%***********************]  1 of 1 completed\n"
     ]
    },
    {
     "name": "stdout",
     "output_type": "stream",
     "text": [
      "AXISBANK.NS done\n"
     ]
    },
    {
     "name": "stderr",
     "output_type": "stream",
     "text": [
      "[*********************100%***********************]  1 of 1 completed\n"
     ]
    },
    {
     "name": "stdout",
     "output_type": "stream",
     "text": [
      "BAJAJ-AUTO.NS done\n"
     ]
    },
    {
     "name": "stderr",
     "output_type": "stream",
     "text": [
      "[*********************100%***********************]  1 of 1 completed\n"
     ]
    },
    {
     "name": "stdout",
     "output_type": "stream",
     "text": [
      "BAJFINANCE.NS done\n"
     ]
    },
    {
     "name": "stderr",
     "output_type": "stream",
     "text": [
      "[*********************100%***********************]  1 of 1 completed\n"
     ]
    },
    {
     "name": "stdout",
     "output_type": "stream",
     "text": [
      "BAJAJFINSV.NS done\n"
     ]
    },
    {
     "name": "stderr",
     "output_type": "stream",
     "text": [
      "[*********************100%***********************]  1 of 1 completed\n"
     ]
    },
    {
     "name": "stdout",
     "output_type": "stream",
     "text": [
      "BEL.NS done\n"
     ]
    },
    {
     "name": "stderr",
     "output_type": "stream",
     "text": [
      "[*********************100%***********************]  1 of 1 completed\n"
     ]
    },
    {
     "name": "stdout",
     "output_type": "stream",
     "text": [
      "BHARTIARTL.NS done\n"
     ]
    },
    {
     "name": "stderr",
     "output_type": "stream",
     "text": [
      "[*********************100%***********************]  1 of 1 completed\n"
     ]
    },
    {
     "name": "stdout",
     "output_type": "stream",
     "text": [
      "CIPLA.NS done\n"
     ]
    },
    {
     "name": "stderr",
     "output_type": "stream",
     "text": [
      "[*********************100%***********************]  1 of 1 completed\n"
     ]
    },
    {
     "name": "stdout",
     "output_type": "stream",
     "text": [
      "COALINDIA.NS done\n"
     ]
    },
    {
     "name": "stderr",
     "output_type": "stream",
     "text": [
      "[*********************100%***********************]  1 of 1 completed\n"
     ]
    },
    {
     "name": "stdout",
     "output_type": "stream",
     "text": [
      "DRREDDY.NS done\n"
     ]
    },
    {
     "name": "stderr",
     "output_type": "stream",
     "text": [
      "[*********************100%***********************]  1 of 1 completed\n",
      "[*********************100%***********************]  1 of 1 completed\n"
     ]
    },
    {
     "name": "stdout",
     "output_type": "stream",
     "text": [
      "EICHERMOT.NS done\n",
      "EICHERMOT.NS done\n"
     ]
    },
    {
     "name": "stderr",
     "output_type": "stream",
     "text": [
      "[*********************100%***********************]  1 of 1 completed\n"
     ]
    },
    {
     "name": "stdout",
     "output_type": "stream",
     "text": [
      "GRASIM.NS done\n"
     ]
    },
    {
     "name": "stderr",
     "output_type": "stream",
     "text": [
      "[*********************100%***********************]  1 of 1 completed\n"
     ]
    },
    {
     "name": "stdout",
     "output_type": "stream",
     "text": [
      "HCLTECH.NS done\n"
     ]
    },
    {
     "name": "stderr",
     "output_type": "stream",
     "text": [
      "[*********************100%***********************]  1 of 1 completed\n"
     ]
    },
    {
     "name": "stdout",
     "output_type": "stream",
     "text": [
      "HDFCBANK.NS done\n"
     ]
    },
    {
     "name": "stderr",
     "output_type": "stream",
     "text": [
      "[*********************100%***********************]  1 of 1 completed\n"
     ]
    },
    {
     "name": "stdout",
     "output_type": "stream",
     "text": [
      "HDFCLIFE.NS done\n"
     ]
    },
    {
     "name": "stderr",
     "output_type": "stream",
     "text": [
      "[*********************100%***********************]  1 of 1 completed\n"
     ]
    },
    {
     "name": "stdout",
     "output_type": "stream",
     "text": [
      "HEROMOTOCO.NS done\n"
     ]
    },
    {
     "name": "stderr",
     "output_type": "stream",
     "text": [
      "[*********************100%***********************]  1 of 1 completed\n"
     ]
    },
    {
     "name": "stdout",
     "output_type": "stream",
     "text": [
      "HINDALCO.NS done\n"
     ]
    },
    {
     "name": "stderr",
     "output_type": "stream",
     "text": [
      "[*********************100%***********************]  1 of 1 completed\n"
     ]
    },
    {
     "name": "stdout",
     "output_type": "stream",
     "text": [
      "HINDUNILVR.NS done\n"
     ]
    },
    {
     "name": "stderr",
     "output_type": "stream",
     "text": [
      "[*********************100%***********************]  1 of 1 completed\n"
     ]
    },
    {
     "name": "stdout",
     "output_type": "stream",
     "text": [
      "ICICIBANK.NS done\n"
     ]
    },
    {
     "name": "stderr",
     "output_type": "stream",
     "text": [
      "[*********************100%***********************]  1 of 1 completed\n"
     ]
    },
    {
     "name": "stdout",
     "output_type": "stream",
     "text": [
      "INDUSINDBK.NS done\n"
     ]
    },
    {
     "name": "stderr",
     "output_type": "stream",
     "text": [
      "[*********************100%***********************]  1 of 1 completed\n"
     ]
    },
    {
     "name": "stdout",
     "output_type": "stream",
     "text": [
      "INFY.NS done\n"
     ]
    },
    {
     "name": "stderr",
     "output_type": "stream",
     "text": [
      "[*********************100%***********************]  1 of 1 completed\n",
      "[*********************100%***********************]  1 of 1 completed"
     ]
    },
    {
     "name": "stdout",
     "output_type": "stream",
     "text": [
      "ITC.NS done\n"
     ]
    },
    {
     "name": "stderr",
     "output_type": "stream",
     "text": [
      "\n"
     ]
    },
    {
     "name": "stdout",
     "output_type": "stream",
     "text": [
      "JIOFIN.NS done\n"
     ]
    },
    {
     "name": "stderr",
     "output_type": "stream",
     "text": [
      "[*********************100%***********************]  1 of 1 completed\n"
     ]
    },
    {
     "name": "stdout",
     "output_type": "stream",
     "text": [
      "JSWSTEEL.NS done\n"
     ]
    },
    {
     "name": "stderr",
     "output_type": "stream",
     "text": [
      "[*********************100%***********************]  1 of 1 completed\n"
     ]
    },
    {
     "name": "stdout",
     "output_type": "stream",
     "text": [
      "KOTAKBANK.NS done\n"
     ]
    },
    {
     "name": "stderr",
     "output_type": "stream",
     "text": [
      "[*********************100%***********************]  1 of 1 completed\n"
     ]
    },
    {
     "name": "stdout",
     "output_type": "stream",
     "text": [
      "LT.NS done\n"
     ]
    },
    {
     "name": "stderr",
     "output_type": "stream",
     "text": [
      "[*********************100%***********************]  1 of 1 completed\n"
     ]
    },
    {
     "name": "stdout",
     "output_type": "stream",
     "text": [
      "M&M.NS done\n"
     ]
    },
    {
     "name": "stderr",
     "output_type": "stream",
     "text": [
      "[*********************100%***********************]  1 of 1 completed\n"
     ]
    },
    {
     "name": "stdout",
     "output_type": "stream",
     "text": [
      "MARUTI.NS done\n"
     ]
    },
    {
     "name": "stderr",
     "output_type": "stream",
     "text": [
      "[*********************100%***********************]  1 of 1 completed\n"
     ]
    },
    {
     "name": "stdout",
     "output_type": "stream",
     "text": [
      "NESTLEIND.NS done\n"
     ]
    },
    {
     "name": "stderr",
     "output_type": "stream",
     "text": [
      "[*********************100%***********************]  1 of 1 completed\n"
     ]
    },
    {
     "name": "stdout",
     "output_type": "stream",
     "text": [
      "NTPC.NS done\n"
     ]
    },
    {
     "name": "stderr",
     "output_type": "stream",
     "text": [
      "[*********************100%***********************]  1 of 1 completed\n"
     ]
    },
    {
     "name": "stdout",
     "output_type": "stream",
     "text": [
      "ONGC.NS done\n"
     ]
    },
    {
     "name": "stderr",
     "output_type": "stream",
     "text": [
      "[*********************100%***********************]  1 of 1 completed\n"
     ]
    },
    {
     "name": "stdout",
     "output_type": "stream",
     "text": [
      "POWERGRID.NS done\n"
     ]
    },
    {
     "name": "stderr",
     "output_type": "stream",
     "text": [
      "[*********************100%***********************]  1 of 1 completed\n"
     ]
    },
    {
     "name": "stdout",
     "output_type": "stream",
     "text": [
      "RELIANCE.NS done\n"
     ]
    },
    {
     "name": "stderr",
     "output_type": "stream",
     "text": [
      "[*********************100%***********************]  1 of 1 completed\n"
     ]
    },
    {
     "name": "stdout",
     "output_type": "stream",
     "text": [
      "SBILIFE.NS done\n"
     ]
    },
    {
     "name": "stderr",
     "output_type": "stream",
     "text": [
      "[*********************100%***********************]  1 of 1 completed\n"
     ]
    },
    {
     "name": "stdout",
     "output_type": "stream",
     "text": [
      "SHRIRAMFIN.NS done\n"
     ]
    },
    {
     "name": "stderr",
     "output_type": "stream",
     "text": [
      "[*********************100%***********************]  1 of 1 completed\n"
     ]
    },
    {
     "name": "stdout",
     "output_type": "stream",
     "text": [
      "SBIN.NS done\n"
     ]
    },
    {
     "name": "stderr",
     "output_type": "stream",
     "text": [
      "[*********************100%***********************]  1 of 1 completed\n"
     ]
    },
    {
     "name": "stdout",
     "output_type": "stream",
     "text": [
      "SUNPHARMA.NS done\n"
     ]
    },
    {
     "name": "stderr",
     "output_type": "stream",
     "text": [
      "[*********************100%***********************]  1 of 1 completed\n"
     ]
    },
    {
     "name": "stdout",
     "output_type": "stream",
     "text": [
      "TCS.NS done\n"
     ]
    },
    {
     "name": "stderr",
     "output_type": "stream",
     "text": [
      "[*********************100%***********************]  1 of 1 completed\n"
     ]
    },
    {
     "name": "stdout",
     "output_type": "stream",
     "text": [
      "TATACONSUM.NS done\n"
     ]
    },
    {
     "name": "stderr",
     "output_type": "stream",
     "text": [
      "[*********************100%***********************]  1 of 1 completed\n"
     ]
    },
    {
     "name": "stdout",
     "output_type": "stream",
     "text": [
      "TATAMOTORS.NS done\n"
     ]
    },
    {
     "name": "stderr",
     "output_type": "stream",
     "text": [
      "[*********************100%***********************]  1 of 1 completed\n"
     ]
    },
    {
     "name": "stdout",
     "output_type": "stream",
     "text": [
      "TATASTEEL.NS done\n"
     ]
    },
    {
     "name": "stderr",
     "output_type": "stream",
     "text": [
      "[*********************100%***********************]  1 of 1 completed\n"
     ]
    },
    {
     "name": "stdout",
     "output_type": "stream",
     "text": [
      "TECHM.NS done\n"
     ]
    },
    {
     "name": "stderr",
     "output_type": "stream",
     "text": [
      "[*********************100%***********************]  1 of 1 completed\n"
     ]
    },
    {
     "name": "stdout",
     "output_type": "stream",
     "text": [
      "TITAN.NS done\n"
     ]
    },
    {
     "name": "stderr",
     "output_type": "stream",
     "text": [
      "[*********************100%***********************]  1 of 1 completed\n"
     ]
    },
    {
     "name": "stdout",
     "output_type": "stream",
     "text": [
      "TRENT.NS done\n"
     ]
    },
    {
     "name": "stderr",
     "output_type": "stream",
     "text": [
      "[*********************100%***********************]  1 of 1 completed\n"
     ]
    },
    {
     "name": "stdout",
     "output_type": "stream",
     "text": [
      "ULTRACEMCO.NS done\n"
     ]
    },
    {
     "name": "stderr",
     "output_type": "stream",
     "text": [
      "[*********************100%***********************]  1 of 1 completed"
     ]
    },
    {
     "name": "stdout",
     "output_type": "stream",
     "text": [
      "WIPRO.NS done\n"
     ]
    },
    {
     "name": "stderr",
     "output_type": "stream",
     "text": [
      "\n"
     ]
    }
   ],
   "source": [
    "data_dict = {}\n",
    "for stock in nifty50_symbols:\n",
    "    data_dict[stock] = yf.download(stock, start=start_dt, end=end_dt)\n",
    "    print(stock, \"done\")"
   ]
  },
  {
   "cell_type": "code",
   "execution_count": 7,
   "id": "2f9a218f-f47c-4263-aac7-86905a888a84",
   "metadata": {},
   "outputs": [],
   "source": [
    "for stock in data_dict:\n",
    "    data_dict[stock] = data_dict[stock].droplevel(level=1, axis=1)\n",
    "    data_dict[stock] = data_dict[stock].reset_index()\n",
    "    data_dict[stock].columns = ['Date', 'Close', 'High', 'Low', 'Open', 'Volume']"
   ]
  },
  {
   "cell_type": "code",
   "execution_count": 8,
   "id": "ec7db9f8-3f04-4ae4-a63b-35c5c690e336",
   "metadata": {},
   "outputs": [
    {
     "data": {
      "text/html": [
       "<div>\n",
       "<style scoped>\n",
       "    .dataframe tbody tr th:only-of-type {\n",
       "        vertical-align: middle;\n",
       "    }\n",
       "\n",
       "    .dataframe tbody tr th {\n",
       "        vertical-align: top;\n",
       "    }\n",
       "\n",
       "    .dataframe thead th {\n",
       "        text-align: right;\n",
       "    }\n",
       "</style>\n",
       "<table border=\"1\" class=\"dataframe\">\n",
       "  <thead>\n",
       "    <tr style=\"text-align: right;\">\n",
       "      <th></th>\n",
       "      <th>Date</th>\n",
       "      <th>Close</th>\n",
       "      <th>High</th>\n",
       "      <th>Low</th>\n",
       "      <th>Open</th>\n",
       "      <th>Volume</th>\n",
       "    </tr>\n",
       "  </thead>\n",
       "  <tbody>\n",
       "    <tr>\n",
       "      <th>0</th>\n",
       "      <td>2010-01-04</td>\n",
       "      <td>65.586174</td>\n",
       "      <td>66.854989</td>\n",
       "      <td>64.926394</td>\n",
       "      <td>65.747662</td>\n",
       "      <td>490880</td>\n",
       "    </tr>\n",
       "    <tr>\n",
       "      <th>1</th>\n",
       "      <td>2010-01-05</td>\n",
       "      <td>66.931145</td>\n",
       "      <td>67.454817</td>\n",
       "      <td>65.701544</td>\n",
       "      <td>66.855012</td>\n",
       "      <td>1282660</td>\n",
       "    </tr>\n",
       "    <tr>\n",
       "      <th>2</th>\n",
       "      <td>2010-01-06</td>\n",
       "      <td>68.008469</td>\n",
       "      <td>68.654415</td>\n",
       "      <td>67.593223</td>\n",
       "      <td>67.870058</td>\n",
       "      <td>1318500</td>\n",
       "    </tr>\n",
       "    <tr>\n",
       "      <th>3</th>\n",
       "      <td>2010-01-07</td>\n",
       "      <td>69.699455</td>\n",
       "      <td>70.730656</td>\n",
       "      <td>67.593222</td>\n",
       "      <td>67.593222</td>\n",
       "      <td>3218340</td>\n",
       "    </tr>\n",
       "    <tr>\n",
       "      <th>4</th>\n",
       "      <td>2010-01-08</td>\n",
       "      <td>69.055824</td>\n",
       "      <td>70.361551</td>\n",
       "      <td>67.203355</td>\n",
       "      <td>70.361551</td>\n",
       "      <td>478240</td>\n",
       "    </tr>\n",
       "  </tbody>\n",
       "</table>\n",
       "</div>"
      ],
      "text/plain": [
       "        Date      Close       High        Low       Open   Volume\n",
       "0 2010-01-04  65.586174  66.854989  64.926394  65.747662   490880\n",
       "1 2010-01-05  66.931145  67.454817  65.701544  66.855012  1282660\n",
       "2 2010-01-06  68.008469  68.654415  67.593223  67.870058  1318500\n",
       "3 2010-01-07  69.699455  70.730656  67.593222  67.593222  3218340\n",
       "4 2010-01-08  69.055824  70.361551  67.203355  70.361551   478240"
      ]
     },
     "execution_count": 8,
     "metadata": {},
     "output_type": "execute_result"
    }
   ],
   "source": [
    "data_dict['TITAN.NS'].head()"
   ]
  },
  {
   "cell_type": "code",
   "execution_count": 9,
   "id": "4dcf79fe-c4f2-4875-a345-1386b3c14e48",
   "metadata": {},
   "outputs": [],
   "source": [
    "data_df = pd.concat(\n",
    "    [df.assign(Ticker=ticker) for ticker, df in data_dict.items()],\n",
    "    ignore_index=True\n",
    ")"
   ]
  },
  {
   "cell_type": "code",
   "execution_count": 10,
   "id": "45c371f1-2083-49e8-b2b9-96ee01b3f46c",
   "metadata": {},
   "outputs": [
    {
     "data": {
      "text/html": [
       "<div>\n",
       "<style scoped>\n",
       "    .dataframe tbody tr th:only-of-type {\n",
       "        vertical-align: middle;\n",
       "    }\n",
       "\n",
       "    .dataframe tbody tr th {\n",
       "        vertical-align: top;\n",
       "    }\n",
       "\n",
       "    .dataframe thead th {\n",
       "        text-align: right;\n",
       "    }\n",
       "</style>\n",
       "<table border=\"1\" class=\"dataframe\">\n",
       "  <thead>\n",
       "    <tr style=\"text-align: right;\">\n",
       "      <th></th>\n",
       "      <th>Date</th>\n",
       "      <th>Close</th>\n",
       "      <th>High</th>\n",
       "      <th>Low</th>\n",
       "      <th>Open</th>\n",
       "      <th>Volume</th>\n",
       "      <th>Ticker</th>\n",
       "    </tr>\n",
       "  </thead>\n",
       "  <tbody>\n",
       "    <tr>\n",
       "      <th>0</th>\n",
       "      <td>2010-01-04</td>\n",
       "      <td>57.215237</td>\n",
       "      <td>57.519302</td>\n",
       "      <td>54.858721</td>\n",
       "      <td>55.390836</td>\n",
       "      <td>1860224</td>\n",
       "      <td>ADANIENT.NS</td>\n",
       "    </tr>\n",
       "    <tr>\n",
       "      <th>1</th>\n",
       "      <td>2010-01-05</td>\n",
       "      <td>58.539192</td>\n",
       "      <td>58.779911</td>\n",
       "      <td>57.392608</td>\n",
       "      <td>57.392608</td>\n",
       "      <td>2280286</td>\n",
       "      <td>ADANIENT.NS</td>\n",
       "    </tr>\n",
       "    <tr>\n",
       "      <th>2</th>\n",
       "      <td>2010-01-06</td>\n",
       "      <td>64.316452</td>\n",
       "      <td>65.501045</td>\n",
       "      <td>58.279465</td>\n",
       "      <td>58.659547</td>\n",
       "      <td>7326390</td>\n",
       "      <td>ADANIENT.NS</td>\n",
       "    </tr>\n",
       "    <tr>\n",
       "      <th>3</th>\n",
       "      <td>2010-01-07</td>\n",
       "      <td>61.662224</td>\n",
       "      <td>65.805140</td>\n",
       "      <td>61.193456</td>\n",
       "      <td>65.805140</td>\n",
       "      <td>4759208</td>\n",
       "      <td>ADANIENT.NS</td>\n",
       "    </tr>\n",
       "    <tr>\n",
       "      <th>4</th>\n",
       "      <td>2010-01-08</td>\n",
       "      <td>62.441383</td>\n",
       "      <td>64.360808</td>\n",
       "      <td>61.092088</td>\n",
       "      <td>62.054963</td>\n",
       "      <td>3324076</td>\n",
       "      <td>ADANIENT.NS</td>\n",
       "    </tr>\n",
       "  </tbody>\n",
       "</table>\n",
       "</div>"
      ],
      "text/plain": [
       "        Date      Close       High        Low       Open   Volume       Ticker\n",
       "0 2010-01-04  57.215237  57.519302  54.858721  55.390836  1860224  ADANIENT.NS\n",
       "1 2010-01-05  58.539192  58.779911  57.392608  57.392608  2280286  ADANIENT.NS\n",
       "2 2010-01-06  64.316452  65.501045  58.279465  58.659547  7326390  ADANIENT.NS\n",
       "3 2010-01-07  61.662224  65.805140  61.193456  65.805140  4759208  ADANIENT.NS\n",
       "4 2010-01-08  62.441383  64.360808  61.092088  62.054963  3324076  ADANIENT.NS"
      ]
     },
     "execution_count": 10,
     "metadata": {},
     "output_type": "execute_result"
    }
   ],
   "source": [
    "data_df.head()"
   ]
  },
  {
   "cell_type": "code",
   "execution_count": 11,
   "id": "88e6e4ef-33ba-405a-aacd-d2e99bc01fd3",
   "metadata": {},
   "outputs": [],
   "source": [
    "def add_technical_indicators(df):\n",
    "    df = df.copy()\n",
    "    df = df.sort_values(\"Date\")\n",
    "\n",
    "    df['EMA_10'] = ta.trend.ema_indicator(df['Close'], window=10)\n",
    "    df['EMA_20'] = ta.trend.ema_indicator(df['Close'], window=20)\n",
    "    df['EMA_50'] = ta.trend.ema_indicator(df['Close'], window=50)\n",
    "\n",
    "    df['RSI_14'] = ta.momentum.rsi(df['Close'], window=14)\n",
    "\n",
    "    bb = ta.volatility.BollingerBands(df['Close'], window=20)\n",
    "    df['BB_BW_20'] = (bb.bollinger_hband() - bb.bollinger_lband()) / df['Close']\n",
    "\n",
    "    df['OBV'] = ta.volume.on_balance_volume(df['Close'], df['Volume'])\n",
    "\n",
    "    df['STOCH_K'] = ta.momentum.stoch(df['High'], df['Low'], df['Close'])\n",
    "    df['STOCH_D'] = ta.momentum.stoch_signal(df['High'], df['Low'], df['Close'])\n",
    "\n",
    "    return df"
   ]
  },
  {
   "cell_type": "code",
   "execution_count": 12,
   "id": "be60b152-3741-4756-b860-fcdc6bfdd7ec",
   "metadata": {},
   "outputs": [
    {
     "data": {
      "text/html": [
       "<div>\n",
       "<style scoped>\n",
       "    .dataframe tbody tr th:only-of-type {\n",
       "        vertical-align: middle;\n",
       "    }\n",
       "\n",
       "    .dataframe tbody tr th {\n",
       "        vertical-align: top;\n",
       "    }\n",
       "\n",
       "    .dataframe thead th {\n",
       "        text-align: right;\n",
       "    }\n",
       "</style>\n",
       "<table border=\"1\" class=\"dataframe\">\n",
       "  <thead>\n",
       "    <tr style=\"text-align: right;\">\n",
       "      <th></th>\n",
       "      <th>Date</th>\n",
       "      <th>Close</th>\n",
       "      <th>High</th>\n",
       "      <th>Low</th>\n",
       "      <th>Open</th>\n",
       "      <th>Volume</th>\n",
       "      <th>Ticker</th>\n",
       "      <th>EMA_10</th>\n",
       "      <th>EMA_20</th>\n",
       "      <th>EMA_50</th>\n",
       "      <th>RSI_14</th>\n",
       "      <th>BB_BW_20</th>\n",
       "      <th>OBV</th>\n",
       "      <th>STOCH_K</th>\n",
       "      <th>STOCH_D</th>\n",
       "    </tr>\n",
       "  </thead>\n",
       "  <tbody>\n",
       "    <tr>\n",
       "      <th>0</th>\n",
       "      <td>2010-01-04</td>\n",
       "      <td>57.215237</td>\n",
       "      <td>57.519302</td>\n",
       "      <td>54.858721</td>\n",
       "      <td>55.390836</td>\n",
       "      <td>1860224</td>\n",
       "      <td>ADANIENT.NS</td>\n",
       "      <td>NaN</td>\n",
       "      <td>NaN</td>\n",
       "      <td>NaN</td>\n",
       "      <td>NaN</td>\n",
       "      <td>NaN</td>\n",
       "      <td>1860224</td>\n",
       "      <td>NaN</td>\n",
       "      <td>NaN</td>\n",
       "    </tr>\n",
       "    <tr>\n",
       "      <th>1</th>\n",
       "      <td>2010-01-05</td>\n",
       "      <td>58.539192</td>\n",
       "      <td>58.779911</td>\n",
       "      <td>57.392608</td>\n",
       "      <td>57.392608</td>\n",
       "      <td>2280286</td>\n",
       "      <td>ADANIENT.NS</td>\n",
       "      <td>NaN</td>\n",
       "      <td>NaN</td>\n",
       "      <td>NaN</td>\n",
       "      <td>NaN</td>\n",
       "      <td>NaN</td>\n",
       "      <td>4140510</td>\n",
       "      <td>NaN</td>\n",
       "      <td>NaN</td>\n",
       "    </tr>\n",
       "    <tr>\n",
       "      <th>2</th>\n",
       "      <td>2010-01-06</td>\n",
       "      <td>64.316452</td>\n",
       "      <td>65.501045</td>\n",
       "      <td>58.279465</td>\n",
       "      <td>58.659547</td>\n",
       "      <td>7326390</td>\n",
       "      <td>ADANIENT.NS</td>\n",
       "      <td>NaN</td>\n",
       "      <td>NaN</td>\n",
       "      <td>NaN</td>\n",
       "      <td>NaN</td>\n",
       "      <td>NaN</td>\n",
       "      <td>11466900</td>\n",
       "      <td>NaN</td>\n",
       "      <td>NaN</td>\n",
       "    </tr>\n",
       "    <tr>\n",
       "      <th>3</th>\n",
       "      <td>2010-01-07</td>\n",
       "      <td>61.662224</td>\n",
       "      <td>65.805140</td>\n",
       "      <td>61.193456</td>\n",
       "      <td>65.805140</td>\n",
       "      <td>4759208</td>\n",
       "      <td>ADANIENT.NS</td>\n",
       "      <td>NaN</td>\n",
       "      <td>NaN</td>\n",
       "      <td>NaN</td>\n",
       "      <td>NaN</td>\n",
       "      <td>NaN</td>\n",
       "      <td>6707692</td>\n",
       "      <td>NaN</td>\n",
       "      <td>NaN</td>\n",
       "    </tr>\n",
       "    <tr>\n",
       "      <th>4</th>\n",
       "      <td>2010-01-08</td>\n",
       "      <td>62.441383</td>\n",
       "      <td>64.360808</td>\n",
       "      <td>61.092088</td>\n",
       "      <td>62.054963</td>\n",
       "      <td>3324076</td>\n",
       "      <td>ADANIENT.NS</td>\n",
       "      <td>NaN</td>\n",
       "      <td>NaN</td>\n",
       "      <td>NaN</td>\n",
       "      <td>NaN</td>\n",
       "      <td>NaN</td>\n",
       "      <td>10031768</td>\n",
       "      <td>NaN</td>\n",
       "      <td>NaN</td>\n",
       "    </tr>\n",
       "  </tbody>\n",
       "</table>\n",
       "</div>"
      ],
      "text/plain": [
       "        Date      Close       High        Low       Open   Volume  \\\n",
       "0 2010-01-04  57.215237  57.519302  54.858721  55.390836  1860224   \n",
       "1 2010-01-05  58.539192  58.779911  57.392608  57.392608  2280286   \n",
       "2 2010-01-06  64.316452  65.501045  58.279465  58.659547  7326390   \n",
       "3 2010-01-07  61.662224  65.805140  61.193456  65.805140  4759208   \n",
       "4 2010-01-08  62.441383  64.360808  61.092088  62.054963  3324076   \n",
       "\n",
       "        Ticker  EMA_10  EMA_20  EMA_50  RSI_14  BB_BW_20       OBV  STOCH_K  \\\n",
       "0  ADANIENT.NS     NaN     NaN     NaN     NaN       NaN   1860224      NaN   \n",
       "1  ADANIENT.NS     NaN     NaN     NaN     NaN       NaN   4140510      NaN   \n",
       "2  ADANIENT.NS     NaN     NaN     NaN     NaN       NaN  11466900      NaN   \n",
       "3  ADANIENT.NS     NaN     NaN     NaN     NaN       NaN   6707692      NaN   \n",
       "4  ADANIENT.NS     NaN     NaN     NaN     NaN       NaN  10031768      NaN   \n",
       "\n",
       "   STOCH_D  \n",
       "0      NaN  \n",
       "1      NaN  \n",
       "2      NaN  \n",
       "3      NaN  \n",
       "4      NaN  "
      ]
     },
     "execution_count": 12,
     "metadata": {},
     "output_type": "execute_result"
    }
   ],
   "source": [
    "data_df = data_df.groupby(\"Ticker\").apply(add_technical_indicators).reset_index(drop=True)\n",
    "data_df.head()"
   ]
  },
  {
   "cell_type": "code",
   "execution_count": 13,
   "id": "a34778a3-8ff0-456e-a721-ea919395bd60",
   "metadata": {},
   "outputs": [
    {
     "data": {
      "text/html": [
       "<div>\n",
       "<style scoped>\n",
       "    .dataframe tbody tr th:only-of-type {\n",
       "        vertical-align: middle;\n",
       "    }\n",
       "\n",
       "    .dataframe tbody tr th {\n",
       "        vertical-align: top;\n",
       "    }\n",
       "\n",
       "    .dataframe thead th {\n",
       "        text-align: right;\n",
       "    }\n",
       "</style>\n",
       "<table border=\"1\" class=\"dataframe\">\n",
       "  <thead>\n",
       "    <tr style=\"text-align: right;\">\n",
       "      <th></th>\n",
       "      <th>Date</th>\n",
       "      <th>Close</th>\n",
       "      <th>High</th>\n",
       "      <th>Low</th>\n",
       "      <th>Open</th>\n",
       "      <th>Volume</th>\n",
       "      <th>Ticker</th>\n",
       "      <th>EMA_10</th>\n",
       "      <th>EMA_20</th>\n",
       "      <th>EMA_50</th>\n",
       "      <th>RSI_14</th>\n",
       "      <th>BB_BW_20</th>\n",
       "      <th>OBV</th>\n",
       "      <th>STOCH_K</th>\n",
       "      <th>STOCH_D</th>\n",
       "    </tr>\n",
       "  </thead>\n",
       "  <tbody>\n",
       "    <tr>\n",
       "      <th>49</th>\n",
       "      <td>2010-03-17</td>\n",
       "      <td>61.022419</td>\n",
       "      <td>62.561762</td>\n",
       "      <td>60.686683</td>\n",
       "      <td>62.561762</td>\n",
       "      <td>2145365</td>\n",
       "      <td>ADANIENT.NS</td>\n",
       "      <td>61.636148</td>\n",
       "      <td>61.719080</td>\n",
       "      <td>60.848124</td>\n",
       "      <td>47.383914</td>\n",
       "      <td>0.087481</td>\n",
       "      <td>-534377</td>\n",
       "      <td>69.091975</td>\n",
       "      <td>70.514222</td>\n",
       "    </tr>\n",
       "    <tr>\n",
       "      <th>50</th>\n",
       "      <td>2010-03-18</td>\n",
       "      <td>60.813370</td>\n",
       "      <td>63.081200</td>\n",
       "      <td>60.179893</td>\n",
       "      <td>63.081200</td>\n",
       "      <td>680293</td>\n",
       "      <td>ADANIENT.NS</td>\n",
       "      <td>61.486552</td>\n",
       "      <td>61.632822</td>\n",
       "      <td>60.846761</td>\n",
       "      <td>46.437983</td>\n",
       "      <td>0.074322</td>\n",
       "      <td>-1214670</td>\n",
       "      <td>67.286696</td>\n",
       "      <td>70.441287</td>\n",
       "    </tr>\n",
       "    <tr>\n",
       "      <th>51</th>\n",
       "      <td>2010-03-19</td>\n",
       "      <td>60.826042</td>\n",
       "      <td>61.161778</td>\n",
       "      <td>59.546426</td>\n",
       "      <td>59.546426</td>\n",
       "      <td>919288</td>\n",
       "      <td>ADANIENT.NS</td>\n",
       "      <td>61.366459</td>\n",
       "      <td>61.555986</td>\n",
       "      <td>60.845948</td>\n",
       "      <td>46.507697</td>\n",
       "      <td>0.071629</td>\n",
       "      <td>-295382</td>\n",
       "      <td>67.396131</td>\n",
       "      <td>67.924934</td>\n",
       "    </tr>\n",
       "    <tr>\n",
       "      <th>52</th>\n",
       "      <td>2010-03-22</td>\n",
       "      <td>59.001637</td>\n",
       "      <td>60.686674</td>\n",
       "      <td>58.665894</td>\n",
       "      <td>60.686674</td>\n",
       "      <td>1875340</td>\n",
       "      <td>ADANIENT.NS</td>\n",
       "      <td>60.936492</td>\n",
       "      <td>61.312714</td>\n",
       "      <td>60.773622</td>\n",
       "      <td>38.698610</td>\n",
       "      <td>0.084850</td>\n",
       "      <td>-2170722</td>\n",
       "      <td>23.330550</td>\n",
       "      <td>52.671126</td>\n",
       "    </tr>\n",
       "    <tr>\n",
       "      <th>53</th>\n",
       "      <td>2010-03-23</td>\n",
       "      <td>58.874943</td>\n",
       "      <td>59.863157</td>\n",
       "      <td>57.791705</td>\n",
       "      <td>59.166339</td>\n",
       "      <td>582769</td>\n",
       "      <td>ADANIENT.NS</td>\n",
       "      <td>60.561665</td>\n",
       "      <td>61.080546</td>\n",
       "      <td>60.699164</td>\n",
       "      <td>38.218689</td>\n",
       "      <td>0.094687</td>\n",
       "      <td>-2753491</td>\n",
       "      <td>21.595957</td>\n",
       "      <td>37.440879</td>\n",
       "    </tr>\n",
       "  </tbody>\n",
       "</table>\n",
       "</div>"
      ],
      "text/plain": [
       "         Date      Close       High        Low       Open   Volume  \\\n",
       "49 2010-03-17  61.022419  62.561762  60.686683  62.561762  2145365   \n",
       "50 2010-03-18  60.813370  63.081200  60.179893  63.081200   680293   \n",
       "51 2010-03-19  60.826042  61.161778  59.546426  59.546426   919288   \n",
       "52 2010-03-22  59.001637  60.686674  58.665894  60.686674  1875340   \n",
       "53 2010-03-23  58.874943  59.863157  57.791705  59.166339   582769   \n",
       "\n",
       "         Ticker     EMA_10     EMA_20     EMA_50     RSI_14  BB_BW_20  \\\n",
       "49  ADANIENT.NS  61.636148  61.719080  60.848124  47.383914  0.087481   \n",
       "50  ADANIENT.NS  61.486552  61.632822  60.846761  46.437983  0.074322   \n",
       "51  ADANIENT.NS  61.366459  61.555986  60.845948  46.507697  0.071629   \n",
       "52  ADANIENT.NS  60.936492  61.312714  60.773622  38.698610  0.084850   \n",
       "53  ADANIENT.NS  60.561665  61.080546  60.699164  38.218689  0.094687   \n",
       "\n",
       "        OBV    STOCH_K    STOCH_D  \n",
       "49  -534377  69.091975  70.514222  \n",
       "50 -1214670  67.286696  70.441287  \n",
       "51  -295382  67.396131  67.924934  \n",
       "52 -2170722  23.330550  52.671126  \n",
       "53 -2753491  21.595957  37.440879  "
      ]
     },
     "execution_count": 13,
     "metadata": {},
     "output_type": "execute_result"
    }
   ],
   "source": [
    "df_full = data_df.dropna()\n",
    "df_full.head()"
   ]
  },
  {
   "cell_type": "code",
   "execution_count": 14,
   "id": "b0b4987d-9b8d-40ce-9fc2-bb10ff550c8c",
   "metadata": {},
   "outputs": [],
   "source": [
    "features = ['Close', 'EMA_10', 'EMA_20', 'EMA_50', 'RSI_14', 'BB_BW_20', 'OBV', 'STOCH_K', 'STOCH_D']"
   ]
  },
  {
   "cell_type": "code",
   "execution_count": 15,
   "id": "bb6a98aa-73c7-412c-bcbd-f54f9c98ed1e",
   "metadata": {},
   "outputs": [],
   "source": [
    "from sklearn.preprocessing import StandardScaler\n",
    "\n",
    "def normalize_features(df, feature_cols):\n",
    "    df = df.copy()\n",
    "    scalers = {}\n",
    "    \n",
    "    for ticker in df[\"Ticker\"].unique():\n",
    "        mask = df[\"Ticker\"] == ticker\n",
    "        scaler = StandardScaler()\n",
    "        df.loc[mask, feature_cols] = scaler.fit_transform(df.loc[mask, feature_cols])\n",
    "        scalers[ticker] = scaler  # Save for inverse transform if needed later\n",
    "\n",
    "    return df, scalers"
   ]
  },
  {
   "cell_type": "code",
   "execution_count": 16,
   "id": "c07799ec-a0bc-406d-9fdb-c15ee78a8f72",
   "metadata": {},
   "outputs": [],
   "source": [
    "df_full_v2, scalers = normalize_features(df_full, features)"
   ]
  },
  {
   "cell_type": "code",
   "execution_count": 17,
   "id": "89b41646-75a1-48c3-8b95-cc9d68176115",
   "metadata": {},
   "outputs": [
    {
     "data": {
      "text/html": [
       "<div>\n",
       "<style scoped>\n",
       "    .dataframe tbody tr th:only-of-type {\n",
       "        vertical-align: middle;\n",
       "    }\n",
       "\n",
       "    .dataframe tbody tr th {\n",
       "        vertical-align: top;\n",
       "    }\n",
       "\n",
       "    .dataframe thead th {\n",
       "        text-align: right;\n",
       "    }\n",
       "</style>\n",
       "<table border=\"1\" class=\"dataframe\">\n",
       "  <thead>\n",
       "    <tr style=\"text-align: right;\">\n",
       "      <th></th>\n",
       "      <th>Date</th>\n",
       "      <th>Close</th>\n",
       "      <th>High</th>\n",
       "      <th>Low</th>\n",
       "      <th>Open</th>\n",
       "      <th>Volume</th>\n",
       "      <th>Ticker</th>\n",
       "      <th>EMA_10</th>\n",
       "      <th>EMA_20</th>\n",
       "      <th>EMA_50</th>\n",
       "      <th>RSI_14</th>\n",
       "      <th>BB_BW_20</th>\n",
       "      <th>OBV</th>\n",
       "      <th>STOCH_K</th>\n",
       "      <th>STOCH_D</th>\n",
       "    </tr>\n",
       "  </thead>\n",
       "  <tbody>\n",
       "    <tr>\n",
       "      <th>49</th>\n",
       "      <td>2010-03-17</td>\n",
       "      <td>-0.580698</td>\n",
       "      <td>62.561762</td>\n",
       "      <td>60.686683</td>\n",
       "      <td>62.561762</td>\n",
       "      <td>2145365</td>\n",
       "      <td>ADANIENT.NS</td>\n",
       "      <td>-0.579347</td>\n",
       "      <td>-0.578444</td>\n",
       "      <td>-0.576981</td>\n",
       "      <td>-0.395793</td>\n",
       "      <td>-0.643098</td>\n",
       "      <td>-1.404836</td>\n",
       "      <td>0.521855</td>\n",
       "      <td>0.605435</td>\n",
       "    </tr>\n",
       "    <tr>\n",
       "      <th>50</th>\n",
       "      <td>2010-03-18</td>\n",
       "      <td>-0.580890</td>\n",
       "      <td>63.081200</td>\n",
       "      <td>60.179893</td>\n",
       "      <td>63.081200</td>\n",
       "      <td>680293</td>\n",
       "      <td>ADANIENT.NS</td>\n",
       "      <td>-0.579485</td>\n",
       "      <td>-0.578524</td>\n",
       "      <td>-0.576982</td>\n",
       "      <td>-0.461941</td>\n",
       "      <td>-0.709204</td>\n",
       "      <td>-1.405203</td>\n",
       "      <td>0.459882</td>\n",
       "      <td>0.602779</td>\n",
       "    </tr>\n",
       "    <tr>\n",
       "      <th>51</th>\n",
       "      <td>2010-03-19</td>\n",
       "      <td>-0.580879</td>\n",
       "      <td>61.161778</td>\n",
       "      <td>59.546426</td>\n",
       "      <td>59.546426</td>\n",
       "      <td>919288</td>\n",
       "      <td>ADANIENT.NS</td>\n",
       "      <td>-0.579595</td>\n",
       "      <td>-0.578595</td>\n",
       "      <td>-0.576983</td>\n",
       "      <td>-0.457066</td>\n",
       "      <td>-0.722732</td>\n",
       "      <td>-1.404707</td>\n",
       "      <td>0.463639</td>\n",
       "      <td>0.511143</td>\n",
       "    </tr>\n",
       "    <tr>\n",
       "      <th>52</th>\n",
       "      <td>2010-03-22</td>\n",
       "      <td>-0.582556</td>\n",
       "      <td>60.686674</td>\n",
       "      <td>58.665894</td>\n",
       "      <td>60.686674</td>\n",
       "      <td>1875340</td>\n",
       "      <td>ADANIENT.NS</td>\n",
       "      <td>-0.579992</td>\n",
       "      <td>-0.578820</td>\n",
       "      <td>-0.577051</td>\n",
       "      <td>-1.003146</td>\n",
       "      <td>-0.656315</td>\n",
       "      <td>-1.405718</td>\n",
       "      <td>-1.049096</td>\n",
       "      <td>-0.044345</td>\n",
       "    </tr>\n",
       "    <tr>\n",
       "      <th>53</th>\n",
       "      <td>2010-03-23</td>\n",
       "      <td>-0.582672</td>\n",
       "      <td>59.863157</td>\n",
       "      <td>57.791705</td>\n",
       "      <td>59.166339</td>\n",
       "      <td>582769</td>\n",
       "      <td>ADANIENT.NS</td>\n",
       "      <td>-0.580338</td>\n",
       "      <td>-0.579035</td>\n",
       "      <td>-0.577121</td>\n",
       "      <td>-1.036706</td>\n",
       "      <td>-0.606896</td>\n",
       "      <td>-1.406033</td>\n",
       "      <td>-1.108643</td>\n",
       "      <td>-0.598975</td>\n",
       "    </tr>\n",
       "  </tbody>\n",
       "</table>\n",
       "</div>"
      ],
      "text/plain": [
       "         Date     Close       High        Low       Open   Volume  \\\n",
       "49 2010-03-17 -0.580698  62.561762  60.686683  62.561762  2145365   \n",
       "50 2010-03-18 -0.580890  63.081200  60.179893  63.081200   680293   \n",
       "51 2010-03-19 -0.580879  61.161778  59.546426  59.546426   919288   \n",
       "52 2010-03-22 -0.582556  60.686674  58.665894  60.686674  1875340   \n",
       "53 2010-03-23 -0.582672  59.863157  57.791705  59.166339   582769   \n",
       "\n",
       "         Ticker    EMA_10    EMA_20    EMA_50    RSI_14  BB_BW_20       OBV  \\\n",
       "49  ADANIENT.NS -0.579347 -0.578444 -0.576981 -0.395793 -0.643098 -1.404836   \n",
       "50  ADANIENT.NS -0.579485 -0.578524 -0.576982 -0.461941 -0.709204 -1.405203   \n",
       "51  ADANIENT.NS -0.579595 -0.578595 -0.576983 -0.457066 -0.722732 -1.404707   \n",
       "52  ADANIENT.NS -0.579992 -0.578820 -0.577051 -1.003146 -0.656315 -1.405718   \n",
       "53  ADANIENT.NS -0.580338 -0.579035 -0.577121 -1.036706 -0.606896 -1.406033   \n",
       "\n",
       "     STOCH_K   STOCH_D  \n",
       "49  0.521855  0.605435  \n",
       "50  0.459882  0.602779  \n",
       "51  0.463639  0.511143  \n",
       "52 -1.049096 -0.044345  \n",
       "53 -1.108643 -0.598975  "
      ]
     },
     "execution_count": 17,
     "metadata": {},
     "output_type": "execute_result"
    }
   ],
   "source": [
    "df_full_v2.head()"
   ]
  },
  {
   "cell_type": "code",
   "execution_count": 20,
   "id": "57f4665d-ae84-4801-b7cd-0ad8bd5d3b15",
   "metadata": {},
   "outputs": [
    {
     "name": "stdout",
     "output_type": "stream",
     "text": [
      "Requirement already satisfied: joblib in d:\\apps\\miniconda\\envs\\new_env\\lib\\site-packages (1.4.2)\n",
      "Note: you may need to restart the kernel to use updated packages.\n"
     ]
    }
   ],
   "source": [
    "%pip install joblib"
   ]
  },
  {
   "cell_type": "code",
   "execution_count": 18,
   "id": "77926228-8e62-4da9-a9db-45e782b73af2",
   "metadata": {},
   "outputs": [
    {
     "data": {
      "text/plain": [
       "['E:\\\\My_Career\\\\Projects\\\\ML_stock_market\\\\data\\\\scalers.pkl']"
      ]
     },
     "execution_count": 18,
     "metadata": {},
     "output_type": "execute_result"
    }
   ],
   "source": [
    "import joblib\n",
    "joblib.dump(scalers, \"E:\\My_Career\\Projects\\ML_stock_market\\data\\\\scalers.pkl\")"
   ]
  },
  {
   "cell_type": "code",
   "execution_count": 19,
   "id": "2ffc6090-0825-4d55-b873-636b50f60702",
   "metadata": {},
   "outputs": [],
   "source": [
    "def global_time_split(df, train_ratio=0.7, val_ratio=0.15):\n",
    "    df = df.copy()\n",
    "    df[\"Date\"] = pd.to_datetime(df[\"Date\"])\n",
    "\n",
    "    min_date = df[\"Date\"].min()\n",
    "    max_date = df[\"Date\"].max()\n",
    "    total_days = (max_date - min_date).days\n",
    "\n",
    "    train_cutoff = min_date + pd.Timedelta(days=int(total_days * train_ratio))\n",
    "    val_cutoff = train_cutoff + pd.Timedelta(days=int(total_days * val_ratio))\n",
    "\n",
    "    train_df = df[df[\"Date\"] <= train_cutoff]\n",
    "    val_df = df[(df[\"Date\"] > train_cutoff+pd.Timedelta(days=int(100))) & (df[\"Date\"] <= val_cutoff)]\n",
    "    test_df = df[df[\"Date\"] > val_cutoff+pd.Timedelta(days=int(100))]\n",
    "\n",
    "    return train_df.reset_index(drop=True), val_df.reset_index(drop=True), test_df.reset_index(drop=True)"
   ]
  },
  {
   "cell_type": "code",
   "execution_count": 20,
   "id": "e4e49d22-30e2-48c2-9c7d-825d2ddc1d9e",
   "metadata": {},
   "outputs": [],
   "source": [
    "train_df, val_df, test_df = global_time_split(df_full_v2)"
   ]
  },
  {
   "cell_type": "code",
   "execution_count": 21,
   "id": "4aeb880e-2e12-4b39-ae70-b83d5ca7a606",
   "metadata": {},
   "outputs": [
    {
     "name": "stdout",
     "output_type": "stream",
     "text": [
      "Train: 2010-03-16 00:00:00 → 2020-07-23 00:00:00\n",
      "Val:   2020-11-02 00:00:00 → 2022-10-11 00:00:00\n",
      "Test:  2023-01-20 00:00:00 → 2024-12-31 00:00:00\n"
     ]
    }
   ],
   "source": [
    "print(\"Train:\", train_df[\"Date\"].min(), \"→\", train_df[\"Date\"].max())\n",
    "print(\"Val:  \", val_df[\"Date\"].min(), \"→\", val_df[\"Date\"].max())\n",
    "print(\"Test: \", test_df[\"Date\"].min(), \"→\", test_df[\"Date\"].max())"
   ]
  },
  {
   "cell_type": "code",
   "execution_count": 22,
   "id": "3fb4fdad-2dde-4cd5-95b3-b83793f180a3",
   "metadata": {},
   "outputs": [],
   "source": [
    "train_df[features+['Date', 'Ticker']].to_csv(\"E:\\My_Career\\Projects\\ML_stock_market\\data\\preprocessed\\\\train.csv\", index=False)\n",
    "test_df[features+['Date', 'Ticker']].to_csv(\"E:\\My_Career\\Projects\\ML_stock_market\\data\\preprocessed\\\\test.csv\", index=False)\n",
    "val_df[features+['Date', 'Ticker']].to_csv(\"E:\\My_Career\\Projects\\ML_stock_market\\data\\preprocessed\\\\val.csv\", index=False)"
   ]
  },
  {
   "cell_type": "code",
   "execution_count": null,
   "id": "68e74937-0b9c-4bcb-bc2b-f8b6c22b44d1",
   "metadata": {},
   "outputs": [],
   "source": []
  }
 ],
 "metadata": {
  "kernelspec": {
   "display_name": "python3.10-new_env",
   "language": "python",
   "name": "python3.10-new_env"
  },
  "language_info": {
   "codemirror_mode": {
    "name": "ipython",
    "version": 3
   },
   "file_extension": ".py",
   "mimetype": "text/x-python",
   "name": "python",
   "nbconvert_exporter": "python",
   "pygments_lexer": "ipython3",
   "version": "3.10.16"
  }
 },
 "nbformat": 4,
 "nbformat_minor": 5
}
