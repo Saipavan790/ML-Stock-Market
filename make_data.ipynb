{
 "cells": [
  {
   "cell_type": "code",
   "execution_count": 2,
   "id": "ecb33acd-a178-48ae-83d1-9d98620e454e",
   "metadata": {
    "collapsed": true,
    "jupyter": {
     "outputs_hidden": true
    }
   },
   "outputs": [
    {
     "name": "stdout",
     "output_type": "stream",
     "text": [
      "Collecting ta\n",
      "  Downloading ta-0.11.0.tar.gz (25 kB)\n",
      "  Preparing metadata (setup.py): started\n",
      "  Preparing metadata (setup.py): finished with status 'done'\n",
      "Requirement already satisfied: numpy in d:\\apps\\miniconda\\envs\\new_env\\lib\\site-packages (from ta) (1.26.4)\n",
      "Requirement already satisfied: pandas in d:\\apps\\miniconda\\envs\\new_env\\lib\\site-packages (from ta) (2.2.3)\n",
      "Requirement already satisfied: python-dateutil>=2.8.2 in d:\\apps\\miniconda\\envs\\new_env\\lib\\site-packages (from pandas->ta) (2.9.0.post0)\n",
      "Requirement already satisfied: pytz>=2020.1 in d:\\apps\\miniconda\\envs\\new_env\\lib\\site-packages (from pandas->ta) (2024.1)\n",
      "Requirement already satisfied: tzdata>=2022.7 in d:\\apps\\miniconda\\envs\\new_env\\lib\\site-packages (from pandas->ta) (2025.2)\n",
      "Requirement already satisfied: six>=1.5 in d:\\apps\\miniconda\\envs\\new_env\\lib\\site-packages (from python-dateutil>=2.8.2->pandas->ta) (1.17.0)\n",
      "Building wheels for collected packages: ta\n",
      "  Building wheel for ta (setup.py): started\n",
      "  Building wheel for ta (setup.py): finished with status 'done'\n",
      "  Created wheel for ta: filename=ta-0.11.0-py3-none-any.whl size=29497 sha256=07ae09980c714acee566e3616cc15ecd25be1057001d51a62d09252202dfc0db\n",
      "  Stored in directory: c:\\users\\saipa\\appdata\\local\\pip\\cache\\wheels\\5f\\67\\4f\\8a9f252836e053e532c6587a3230bc72a4deb16b03a829610b\n",
      "Successfully built ta\n",
      "Installing collected packages: ta\n",
      "Successfully installed ta-0.11.0\n",
      "Note: you may need to restart the kernel to use updated packages.\n"
     ]
    },
    {
     "name": "stderr",
     "output_type": "stream",
     "text": [
      "  DEPRECATION: Building 'ta' using the legacy setup.py bdist_wheel mechanism, which will be removed in a future version. pip 25.3 will enforce this behaviour change. A possible replacement is to use the standardized build interface by setting the `--use-pep517` option, (possibly combined with `--no-build-isolation`), or adding a `pyproject.toml` file to the source tree of 'ta'. Discussion can be found at https://github.com/pypa/pip/issues/6334\n"
     ]
    }
   ],
   "source": [
    "%pip install ta"
   ]
  },
  {
   "cell_type": "code",
   "execution_count": 1,
   "id": "735fbc8d-6c16-45e1-9d95-a03565cf1b08",
   "metadata": {},
   "outputs": [
    {
     "name": "stderr",
     "output_type": "stream",
     "text": [
      "D:\\Apps\\Miniconda\\envs\\new_env\\lib\\site-packages\\requests\\__init__.py:86: RequestsDependencyWarning: Unable to find acceptable character detection dependency (chardet or charset_normalizer).\n",
      "  warnings.warn(\n"
     ]
    }
   ],
   "source": [
    "import yfinance as yf\n",
    "import numpy as np\n",
    "import pandas as pd\n",
    "import os\n",
    "import datetime\n",
    "pd.options.mode.chained_assignment = None\n",
    "import ta"
   ]
  },
  {
   "cell_type": "code",
   "execution_count": 2,
   "id": "61a3c85c-935a-42e0-8916-a940056a600e",
   "metadata": {},
   "outputs": [],
   "source": [
    "import warnings\n",
    "warnings.filterwarnings('ignore')"
   ]
  },
  {
   "cell_type": "code",
   "execution_count": 3,
   "id": "4541dd8c-f00e-4862-8ef3-9a6b31f30a8b",
   "metadata": {},
   "outputs": [],
   "source": [
    "nifty50_symbols = [\n",
    "    \"ADANIENT.NS\", \"ADANIPORTS.NS\", \"APOLLOHOSP.NS\", \"ASIANPAINT.NS\", \"AXISBANK.NS\",\n",
    "    \"BAJAJ-AUTO.NS\", \"BAJFINANCE.NS\", \"BAJAJFINSV.NS\", \"BEL.NS\", \"BHARTIARTL.NS\",\n",
    "    \"CIPLA.NS\", \"COALINDIA.NS\", \"DRREDDY.NS\", \"EICHERMOT.NS\", \"EICHERMOT.NS\",\n",
    "    \"GRASIM.NS\", \"HCLTECH.NS\", \"HDFCBANK.NS\", \"HDFCLIFE.NS\", \"HEROMOTOCO.NS\",\n",
    "    \"HINDALCO.NS\", \"HINDUNILVR.NS\", \"ICICIBANK.NS\", \"INDUSINDBK.NS\", \"INFY.NS\",\n",
    "    \"ITC.NS\", \"JIOFIN.NS\", \"JSWSTEEL.NS\", \"KOTAKBANK.NS\", \"LT.NS\",\n",
    "    \"M&M.NS\", \"MARUTI.NS\", \"NESTLEIND.NS\", \"NTPC.NS\", \"ONGC.NS\",\n",
    "    \"POWERGRID.NS\", \"RELIANCE.NS\", \"SBILIFE.NS\", \"SHRIRAMFIN.NS\", \"SBIN.NS\",\n",
    "    \"SUNPHARMA.NS\", \"TCS.NS\", \"TATACONSUM.NS\", \"TATAMOTORS.NS\", \"TATASTEEL.NS\",\n",
    "    \"TECHM.NS\", \"TITAN.NS\", \"TRENT.NS\", \"ULTRACEMCO.NS\", \"WIPRO.NS\"\n",
    "]"
   ]
  },
  {
   "cell_type": "code",
   "execution_count": 4,
   "id": "59f30075-8978-49f9-8e1d-0831d0a79a58",
   "metadata": {},
   "outputs": [],
   "source": [
    "data_dir = \"E:\\My_Career\\Projects\\ML_stock_market\\data\"\n",
    "if not os.path.exists(data_dir):\n",
    "    os.makedirs(data_dir)"
   ]
  },
  {
   "cell_type": "code",
   "execution_count": 5,
   "id": "ecc4409a-60ec-4a0f-b315-8c62e33ccdaf",
   "metadata": {},
   "outputs": [],
   "source": [
    "start_dt = '2010-01-01'\n",
    "end_dt = '2025-05-01'"
   ]
  },
  {
   "cell_type": "code",
   "execution_count": 6,
   "id": "edcf9ded-2323-474a-b62b-6605c9fcf211",
   "metadata": {
    "collapsed": true,
    "jupyter": {
     "outputs_hidden": true
    },
    "scrolled": true
   },
   "outputs": [
    {
     "name": "stdout",
     "output_type": "stream",
     "text": [
      "YF.download() has changed argument auto_adjust default to True\n"
     ]
    },
    {
     "name": "stderr",
     "output_type": "stream",
     "text": [
      "[*********************100%***********************]  1 of 1 completed\n"
     ]
    },
    {
     "name": "stdout",
     "output_type": "stream",
     "text": [
      "ADANIENT.NS done\n"
     ]
    },
    {
     "name": "stderr",
     "output_type": "stream",
     "text": [
      "[*********************100%***********************]  1 of 1 completed\n"
     ]
    },
    {
     "name": "stdout",
     "output_type": "stream",
     "text": [
      "ADANIPORTS.NS done\n"
     ]
    },
    {
     "name": "stderr",
     "output_type": "stream",
     "text": [
      "[*********************100%***********************]  1 of 1 completed\n"
     ]
    },
    {
     "name": "stdout",
     "output_type": "stream",
     "text": [
      "APOLLOHOSP.NS done\n"
     ]
    },
    {
     "name": "stderr",
     "output_type": "stream",
     "text": [
      "[*********************100%***********************]  1 of 1 completed\n"
     ]
    },
    {
     "name": "stdout",
     "output_type": "stream",
     "text": [
      "ASIANPAINT.NS done\n"
     ]
    },
    {
     "name": "stderr",
     "output_type": "stream",
     "text": [
      "[*********************100%***********************]  1 of 1 completed\n"
     ]
    },
    {
     "name": "stdout",
     "output_type": "stream",
     "text": [
      "AXISBANK.NS done\n"
     ]
    },
    {
     "name": "stderr",
     "output_type": "stream",
     "text": [
      "[*********************100%***********************]  1 of 1 completed\n"
     ]
    },
    {
     "name": "stdout",
     "output_type": "stream",
     "text": [
      "BAJAJ-AUTO.NS done\n"
     ]
    },
    {
     "name": "stderr",
     "output_type": "stream",
     "text": [
      "[*********************100%***********************]  1 of 1 completed\n"
     ]
    },
    {
     "name": "stdout",
     "output_type": "stream",
     "text": [
      "BAJFINANCE.NS done\n"
     ]
    },
    {
     "name": "stderr",
     "output_type": "stream",
     "text": [
      "[*********************100%***********************]  1 of 1 completed\n"
     ]
    },
    {
     "name": "stdout",
     "output_type": "stream",
     "text": [
      "BAJAJFINSV.NS done\n"
     ]
    },
    {
     "name": "stderr",
     "output_type": "stream",
     "text": [
      "[*********************100%***********************]  1 of 1 completed\n"
     ]
    },
    {
     "name": "stdout",
     "output_type": "stream",
     "text": [
      "BEL.NS done\n"
     ]
    },
    {
     "name": "stderr",
     "output_type": "stream",
     "text": [
      "[*********************100%***********************]  1 of 1 completed\n"
     ]
    },
    {
     "name": "stdout",
     "output_type": "stream",
     "text": [
      "BHARTIARTL.NS done\n"
     ]
    },
    {
     "name": "stderr",
     "output_type": "stream",
     "text": [
      "[*********************100%***********************]  1 of 1 completed\n"
     ]
    },
    {
     "name": "stdout",
     "output_type": "stream",
     "text": [
      "CIPLA.NS done\n"
     ]
    },
    {
     "name": "stderr",
     "output_type": "stream",
     "text": [
      "[*********************100%***********************]  1 of 1 completed\n"
     ]
    },
    {
     "name": "stdout",
     "output_type": "stream",
     "text": [
      "COALINDIA.NS done\n"
     ]
    },
    {
     "name": "stderr",
     "output_type": "stream",
     "text": [
      "[*********************100%***********************]  1 of 1 completed\n"
     ]
    },
    {
     "name": "stdout",
     "output_type": "stream",
     "text": [
      "DRREDDY.NS done\n"
     ]
    },
    {
     "name": "stderr",
     "output_type": "stream",
     "text": [
      "[*********************100%***********************]  1 of 1 completed\n",
      "[*********************100%***********************]  1 of 1 completed\n"
     ]
    },
    {
     "name": "stdout",
     "output_type": "stream",
     "text": [
      "EICHERMOT.NS done\n",
      "EICHERMOT.NS done\n"
     ]
    },
    {
     "name": "stderr",
     "output_type": "stream",
     "text": [
      "[*********************100%***********************]  1 of 1 completed\n"
     ]
    },
    {
     "name": "stdout",
     "output_type": "stream",
     "text": [
      "GRASIM.NS done\n"
     ]
    },
    {
     "name": "stderr",
     "output_type": "stream",
     "text": [
      "[*********************100%***********************]  1 of 1 completed\n"
     ]
    },
    {
     "name": "stdout",
     "output_type": "stream",
     "text": [
      "HCLTECH.NS done\n"
     ]
    },
    {
     "name": "stderr",
     "output_type": "stream",
     "text": [
      "[*********************100%***********************]  1 of 1 completed\n"
     ]
    },
    {
     "name": "stdout",
     "output_type": "stream",
     "text": [
      "HDFCBANK.NS done\n"
     ]
    },
    {
     "name": "stderr",
     "output_type": "stream",
     "text": [
      "[*********************100%***********************]  1 of 1 completed\n"
     ]
    },
    {
     "name": "stdout",
     "output_type": "stream",
     "text": [
      "HDFCLIFE.NS done\n"
     ]
    },
    {
     "name": "stderr",
     "output_type": "stream",
     "text": [
      "[*********************100%***********************]  1 of 1 completed\n"
     ]
    },
    {
     "name": "stdout",
     "output_type": "stream",
     "text": [
      "HEROMOTOCO.NS done\n"
     ]
    },
    {
     "name": "stderr",
     "output_type": "stream",
     "text": [
      "[*********************100%***********************]  1 of 1 completed\n"
     ]
    },
    {
     "name": "stdout",
     "output_type": "stream",
     "text": [
      "HINDALCO.NS done\n"
     ]
    },
    {
     "name": "stderr",
     "output_type": "stream",
     "text": [
      "[*********************100%***********************]  1 of 1 completed\n"
     ]
    },
    {
     "name": "stdout",
     "output_type": "stream",
     "text": [
      "HINDUNILVR.NS done\n"
     ]
    },
    {
     "name": "stderr",
     "output_type": "stream",
     "text": [
      "[*********************100%***********************]  1 of 1 completed\n"
     ]
    },
    {
     "name": "stdout",
     "output_type": "stream",
     "text": [
      "ICICIBANK.NS done\n"
     ]
    },
    {
     "name": "stderr",
     "output_type": "stream",
     "text": [
      "[*********************100%***********************]  1 of 1 completed\n"
     ]
    },
    {
     "name": "stdout",
     "output_type": "stream",
     "text": [
      "INDUSINDBK.NS done\n"
     ]
    },
    {
     "name": "stderr",
     "output_type": "stream",
     "text": [
      "[*********************100%***********************]  1 of 1 completed\n"
     ]
    },
    {
     "name": "stdout",
     "output_type": "stream",
     "text": [
      "INFY.NS done\n"
     ]
    },
    {
     "name": "stderr",
     "output_type": "stream",
     "text": [
      "[*********************100%***********************]  1 of 1 completed\n"
     ]
    },
    {
     "name": "stdout",
     "output_type": "stream",
     "text": [
      "ITC.NS done\n"
     ]
    },
    {
     "name": "stderr",
     "output_type": "stream",
     "text": [
      "[*********************100%***********************]  1 of 1 completed\n"
     ]
    },
    {
     "name": "stdout",
     "output_type": "stream",
     "text": [
      "JIOFIN.NS done\n"
     ]
    },
    {
     "name": "stderr",
     "output_type": "stream",
     "text": [
      "[*********************100%***********************]  1 of 1 completed\n"
     ]
    },
    {
     "name": "stdout",
     "output_type": "stream",
     "text": [
      "JSWSTEEL.NS done\n"
     ]
    },
    {
     "name": "stderr",
     "output_type": "stream",
     "text": [
      "[*********************100%***********************]  1 of 1 completed\n"
     ]
    },
    {
     "name": "stdout",
     "output_type": "stream",
     "text": [
      "KOTAKBANK.NS done\n"
     ]
    },
    {
     "name": "stderr",
     "output_type": "stream",
     "text": [
      "[*********************100%***********************]  1 of 1 completed\n"
     ]
    },
    {
     "name": "stdout",
     "output_type": "stream",
     "text": [
      "LT.NS done\n"
     ]
    },
    {
     "name": "stderr",
     "output_type": "stream",
     "text": [
      "[*********************100%***********************]  1 of 1 completed\n"
     ]
    },
    {
     "name": "stdout",
     "output_type": "stream",
     "text": [
      "M&M.NS done\n"
     ]
    },
    {
     "name": "stderr",
     "output_type": "stream",
     "text": [
      "[*********************100%***********************]  1 of 1 completed\n"
     ]
    },
    {
     "name": "stdout",
     "output_type": "stream",
     "text": [
      "MARUTI.NS done\n"
     ]
    },
    {
     "name": "stderr",
     "output_type": "stream",
     "text": [
      "[*********************100%***********************]  1 of 1 completed\n"
     ]
    },
    {
     "name": "stdout",
     "output_type": "stream",
     "text": [
      "NESTLEIND.NS done\n"
     ]
    },
    {
     "name": "stderr",
     "output_type": "stream",
     "text": [
      "[*********************100%***********************]  1 of 1 completed\n"
     ]
    },
    {
     "name": "stdout",
     "output_type": "stream",
     "text": [
      "NTPC.NS done\n"
     ]
    },
    {
     "name": "stderr",
     "output_type": "stream",
     "text": [
      "[*********************100%***********************]  1 of 1 completed\n"
     ]
    },
    {
     "name": "stdout",
     "output_type": "stream",
     "text": [
      "ONGC.NS done\n"
     ]
    },
    {
     "name": "stderr",
     "output_type": "stream",
     "text": [
      "[*********************100%***********************]  1 of 1 completed\n"
     ]
    },
    {
     "name": "stdout",
     "output_type": "stream",
     "text": [
      "POWERGRID.NS done\n"
     ]
    },
    {
     "name": "stderr",
     "output_type": "stream",
     "text": [
      "[*********************100%***********************]  1 of 1 completed\n"
     ]
    },
    {
     "name": "stdout",
     "output_type": "stream",
     "text": [
      "RELIANCE.NS done\n"
     ]
    },
    {
     "name": "stderr",
     "output_type": "stream",
     "text": [
      "[*********************100%***********************]  1 of 1 completed\n"
     ]
    },
    {
     "name": "stdout",
     "output_type": "stream",
     "text": [
      "SBILIFE.NS done\n"
     ]
    },
    {
     "name": "stderr",
     "output_type": "stream",
     "text": [
      "[*********************100%***********************]  1 of 1 completed\n"
     ]
    },
    {
     "name": "stdout",
     "output_type": "stream",
     "text": [
      "SHRIRAMFIN.NS done\n"
     ]
    },
    {
     "name": "stderr",
     "output_type": "stream",
     "text": [
      "[*********************100%***********************]  1 of 1 completed\n"
     ]
    },
    {
     "name": "stdout",
     "output_type": "stream",
     "text": [
      "SBIN.NS done\n"
     ]
    },
    {
     "name": "stderr",
     "output_type": "stream",
     "text": [
      "[*********************100%***********************]  1 of 1 completed\n"
     ]
    },
    {
     "name": "stdout",
     "output_type": "stream",
     "text": [
      "SUNPHARMA.NS done\n"
     ]
    },
    {
     "name": "stderr",
     "output_type": "stream",
     "text": [
      "[*********************100%***********************]  1 of 1 completed\n"
     ]
    },
    {
     "name": "stdout",
     "output_type": "stream",
     "text": [
      "TCS.NS done\n"
     ]
    },
    {
     "name": "stderr",
     "output_type": "stream",
     "text": [
      "[*********************100%***********************]  1 of 1 completed\n"
     ]
    },
    {
     "name": "stdout",
     "output_type": "stream",
     "text": [
      "TATACONSUM.NS done\n"
     ]
    },
    {
     "name": "stderr",
     "output_type": "stream",
     "text": [
      "[*********************100%***********************]  1 of 1 completed\n"
     ]
    },
    {
     "name": "stdout",
     "output_type": "stream",
     "text": [
      "TATAMOTORS.NS done\n"
     ]
    },
    {
     "name": "stderr",
     "output_type": "stream",
     "text": [
      "[*********************100%***********************]  1 of 1 completed\n"
     ]
    },
    {
     "name": "stdout",
     "output_type": "stream",
     "text": [
      "TATASTEEL.NS done\n"
     ]
    },
    {
     "name": "stderr",
     "output_type": "stream",
     "text": [
      "[*********************100%***********************]  1 of 1 completed\n"
     ]
    },
    {
     "name": "stdout",
     "output_type": "stream",
     "text": [
      "TECHM.NS done\n"
     ]
    },
    {
     "name": "stderr",
     "output_type": "stream",
     "text": [
      "[*********************100%***********************]  1 of 1 completed\n"
     ]
    },
    {
     "name": "stdout",
     "output_type": "stream",
     "text": [
      "TITAN.NS done\n"
     ]
    },
    {
     "name": "stderr",
     "output_type": "stream",
     "text": [
      "[*********************100%***********************]  1 of 1 completed\n"
     ]
    },
    {
     "name": "stdout",
     "output_type": "stream",
     "text": [
      "TRENT.NS done\n"
     ]
    },
    {
     "name": "stderr",
     "output_type": "stream",
     "text": [
      "[*********************100%***********************]  1 of 1 completed\n"
     ]
    },
    {
     "name": "stdout",
     "output_type": "stream",
     "text": [
      "ULTRACEMCO.NS done\n"
     ]
    },
    {
     "name": "stderr",
     "output_type": "stream",
     "text": [
      "[*********************100%***********************]  1 of 1 completed"
     ]
    },
    {
     "name": "stdout",
     "output_type": "stream",
     "text": [
      "WIPRO.NS done\n"
     ]
    },
    {
     "name": "stderr",
     "output_type": "stream",
     "text": [
      "\n"
     ]
    }
   ],
   "source": [
    "data_dict = {}\n",
    "for stock in nifty50_symbols:\n",
    "    data_dict[stock] = yf.download(stock, start=start_dt, end=end_dt)\n",
    "    print(stock, \"done\")"
   ]
  },
  {
   "cell_type": "code",
   "execution_count": 7,
   "id": "2f9a218f-f47c-4263-aac7-86905a888a84",
   "metadata": {},
   "outputs": [],
   "source": [
    "for stock in data_dict:\n",
    "    data_dict[stock] = data_dict[stock].droplevel(level=1, axis=1)\n",
    "    data_dict[stock] = data_dict[stock].reset_index()\n",
    "    data_dict[stock].columns = ['Date', 'Close', 'High', 'Low', 'Open', 'Volume']"
   ]
  },
  {
   "cell_type": "code",
   "execution_count": 8,
   "id": "ec7db9f8-3f04-4ae4-a63b-35c5c690e336",
   "metadata": {},
   "outputs": [
    {
     "data": {
      "text/html": [
       "<div>\n",
       "<style scoped>\n",
       "    .dataframe tbody tr th:only-of-type {\n",
       "        vertical-align: middle;\n",
       "    }\n",
       "\n",
       "    .dataframe tbody tr th {\n",
       "        vertical-align: top;\n",
       "    }\n",
       "\n",
       "    .dataframe thead th {\n",
       "        text-align: right;\n",
       "    }\n",
       "</style>\n",
       "<table border=\"1\" class=\"dataframe\">\n",
       "  <thead>\n",
       "    <tr style=\"text-align: right;\">\n",
       "      <th></th>\n",
       "      <th>Date</th>\n",
       "      <th>Close</th>\n",
       "      <th>High</th>\n",
       "      <th>Low</th>\n",
       "      <th>Open</th>\n",
       "      <th>Volume</th>\n",
       "    </tr>\n",
       "  </thead>\n",
       "  <tbody>\n",
       "    <tr>\n",
       "      <th>0</th>\n",
       "      <td>2010-01-04</td>\n",
       "      <td>65.586182</td>\n",
       "      <td>66.854996</td>\n",
       "      <td>64.926401</td>\n",
       "      <td>65.747670</td>\n",
       "      <td>490880</td>\n",
       "    </tr>\n",
       "    <tr>\n",
       "      <th>1</th>\n",
       "      <td>2010-01-05</td>\n",
       "      <td>66.931129</td>\n",
       "      <td>67.454801</td>\n",
       "      <td>65.701529</td>\n",
       "      <td>66.854997</td>\n",
       "      <td>1282660</td>\n",
       "    </tr>\n",
       "    <tr>\n",
       "      <th>2</th>\n",
       "      <td>2010-01-06</td>\n",
       "      <td>68.008461</td>\n",
       "      <td>68.654407</td>\n",
       "      <td>67.593215</td>\n",
       "      <td>67.870050</td>\n",
       "      <td>1318500</td>\n",
       "    </tr>\n",
       "    <tr>\n",
       "      <th>3</th>\n",
       "      <td>2010-01-07</td>\n",
       "      <td>69.699455</td>\n",
       "      <td>70.730656</td>\n",
       "      <td>67.593222</td>\n",
       "      <td>67.593222</td>\n",
       "      <td>3218340</td>\n",
       "    </tr>\n",
       "    <tr>\n",
       "      <th>4</th>\n",
       "      <td>2010-01-08</td>\n",
       "      <td>69.055809</td>\n",
       "      <td>70.361535</td>\n",
       "      <td>67.203340</td>\n",
       "      <td>70.361535</td>\n",
       "      <td>478240</td>\n",
       "    </tr>\n",
       "  </tbody>\n",
       "</table>\n",
       "</div>"
      ],
      "text/plain": [
       "        Date      Close       High        Low       Open   Volume\n",
       "0 2010-01-04  65.586182  66.854996  64.926401  65.747670   490880\n",
       "1 2010-01-05  66.931129  67.454801  65.701529  66.854997  1282660\n",
       "2 2010-01-06  68.008461  68.654407  67.593215  67.870050  1318500\n",
       "3 2010-01-07  69.699455  70.730656  67.593222  67.593222  3218340\n",
       "4 2010-01-08  69.055809  70.361535  67.203340  70.361535   478240"
      ]
     },
     "execution_count": 8,
     "metadata": {},
     "output_type": "execute_result"
    }
   ],
   "source": [
    "data_dict['TITAN.NS'].head()"
   ]
  },
  {
   "cell_type": "code",
   "execution_count": 9,
   "id": "4dcf79fe-c4f2-4875-a345-1386b3c14e48",
   "metadata": {},
   "outputs": [],
   "source": [
    "data_df = pd.concat(\n",
    "    [df.assign(Ticker=ticker) for ticker, df in data_dict.items()],\n",
    "    ignore_index=True\n",
    ")"
   ]
  },
  {
   "cell_type": "code",
   "execution_count": 10,
   "id": "45c371f1-2083-49e8-b2b9-96ee01b3f46c",
   "metadata": {},
   "outputs": [
    {
     "data": {
      "text/html": [
       "<div>\n",
       "<style scoped>\n",
       "    .dataframe tbody tr th:only-of-type {\n",
       "        vertical-align: middle;\n",
       "    }\n",
       "\n",
       "    .dataframe tbody tr th {\n",
       "        vertical-align: top;\n",
       "    }\n",
       "\n",
       "    .dataframe thead th {\n",
       "        text-align: right;\n",
       "    }\n",
       "</style>\n",
       "<table border=\"1\" class=\"dataframe\">\n",
       "  <thead>\n",
       "    <tr style=\"text-align: right;\">\n",
       "      <th></th>\n",
       "      <th>Date</th>\n",
       "      <th>Close</th>\n",
       "      <th>High</th>\n",
       "      <th>Low</th>\n",
       "      <th>Open</th>\n",
       "      <th>Volume</th>\n",
       "      <th>Ticker</th>\n",
       "    </tr>\n",
       "  </thead>\n",
       "  <tbody>\n",
       "    <tr>\n",
       "      <th>0</th>\n",
       "      <td>2010-01-04</td>\n",
       "      <td>57.215233</td>\n",
       "      <td>57.519299</td>\n",
       "      <td>54.858717</td>\n",
       "      <td>55.390832</td>\n",
       "      <td>1860224</td>\n",
       "      <td>ADANIENT.NS</td>\n",
       "    </tr>\n",
       "    <tr>\n",
       "      <th>1</th>\n",
       "      <td>2010-01-05</td>\n",
       "      <td>58.539196</td>\n",
       "      <td>58.779915</td>\n",
       "      <td>57.392611</td>\n",
       "      <td>57.392611</td>\n",
       "      <td>2280286</td>\n",
       "      <td>ADANIENT.NS</td>\n",
       "    </tr>\n",
       "    <tr>\n",
       "      <th>2</th>\n",
       "      <td>2010-01-06</td>\n",
       "      <td>64.316452</td>\n",
       "      <td>65.501045</td>\n",
       "      <td>58.279465</td>\n",
       "      <td>58.659547</td>\n",
       "      <td>7326390</td>\n",
       "      <td>ADANIENT.NS</td>\n",
       "    </tr>\n",
       "    <tr>\n",
       "      <th>3</th>\n",
       "      <td>2010-01-07</td>\n",
       "      <td>61.662220</td>\n",
       "      <td>65.805136</td>\n",
       "      <td>61.193452</td>\n",
       "      <td>65.805136</td>\n",
       "      <td>4759208</td>\n",
       "      <td>ADANIENT.NS</td>\n",
       "    </tr>\n",
       "    <tr>\n",
       "      <th>4</th>\n",
       "      <td>2010-01-08</td>\n",
       "      <td>62.441376</td>\n",
       "      <td>64.360800</td>\n",
       "      <td>61.092081</td>\n",
       "      <td>62.054956</td>\n",
       "      <td>3324076</td>\n",
       "      <td>ADANIENT.NS</td>\n",
       "    </tr>\n",
       "  </tbody>\n",
       "</table>\n",
       "</div>"
      ],
      "text/plain": [
       "        Date      Close       High        Low       Open   Volume       Ticker\n",
       "0 2010-01-04  57.215233  57.519299  54.858717  55.390832  1860224  ADANIENT.NS\n",
       "1 2010-01-05  58.539196  58.779915  57.392611  57.392611  2280286  ADANIENT.NS\n",
       "2 2010-01-06  64.316452  65.501045  58.279465  58.659547  7326390  ADANIENT.NS\n",
       "3 2010-01-07  61.662220  65.805136  61.193452  65.805136  4759208  ADANIENT.NS\n",
       "4 2010-01-08  62.441376  64.360800  61.092081  62.054956  3324076  ADANIENT.NS"
      ]
     },
     "execution_count": 10,
     "metadata": {},
     "output_type": "execute_result"
    }
   ],
   "source": [
    "data_df.head()"
   ]
  },
  {
   "cell_type": "code",
   "execution_count": 11,
   "id": "88e6e4ef-33ba-405a-aacd-d2e99bc01fd3",
   "metadata": {},
   "outputs": [],
   "source": [
    "def add_technical_indicators(df):\n",
    "    df = df.copy()\n",
    "    df = df.sort_values(\"Date\")\n",
    "\n",
    "    df['EMA_10'] = ta.trend.ema_indicator(df['Close'], window=10)\n",
    "    df['EMA_20'] = ta.trend.ema_indicator(df['Close'], window=20)\n",
    "    df['EMA_50'] = ta.trend.ema_indicator(df['Close'], window=50)\n",
    "\n",
    "    df['RSI_14'] = ta.momentum.rsi(df['Close'], window=14)\n",
    "\n",
    "    bb = ta.volatility.BollingerBands(df['Close'], window=20)\n",
    "    df['BB_BW_20'] = (bb.bollinger_hband() - bb.bollinger_lband()) / df['Close']\n",
    "\n",
    "    df['OBV'] = ta.volume.on_balance_volume(df['Close'], df['Volume'])\n",
    "\n",
    "    df['STOCH_K'] = ta.momentum.stoch(df['High'], df['Low'], df['Close'])\n",
    "    df['STOCH_D'] = ta.momentum.stoch_signal(df['High'], df['Low'], df['Close'])\n",
    "\n",
    "    return df"
   ]
  },
  {
   "cell_type": "code",
   "execution_count": 12,
   "id": "be60b152-3741-4756-b860-fcdc6bfdd7ec",
   "metadata": {},
   "outputs": [
    {
     "data": {
      "text/html": [
       "<div>\n",
       "<style scoped>\n",
       "    .dataframe tbody tr th:only-of-type {\n",
       "        vertical-align: middle;\n",
       "    }\n",
       "\n",
       "    .dataframe tbody tr th {\n",
       "        vertical-align: top;\n",
       "    }\n",
       "\n",
       "    .dataframe thead th {\n",
       "        text-align: right;\n",
       "    }\n",
       "</style>\n",
       "<table border=\"1\" class=\"dataframe\">\n",
       "  <thead>\n",
       "    <tr style=\"text-align: right;\">\n",
       "      <th></th>\n",
       "      <th>Date</th>\n",
       "      <th>Close</th>\n",
       "      <th>High</th>\n",
       "      <th>Low</th>\n",
       "      <th>Open</th>\n",
       "      <th>Volume</th>\n",
       "      <th>Ticker</th>\n",
       "      <th>EMA_10</th>\n",
       "      <th>EMA_20</th>\n",
       "      <th>EMA_50</th>\n",
       "      <th>RSI_14</th>\n",
       "      <th>BB_BW_20</th>\n",
       "      <th>OBV</th>\n",
       "      <th>STOCH_K</th>\n",
       "      <th>STOCH_D</th>\n",
       "    </tr>\n",
       "  </thead>\n",
       "  <tbody>\n",
       "    <tr>\n",
       "      <th>0</th>\n",
       "      <td>2010-01-04</td>\n",
       "      <td>57.215233</td>\n",
       "      <td>57.519299</td>\n",
       "      <td>54.858717</td>\n",
       "      <td>55.390832</td>\n",
       "      <td>1860224</td>\n",
       "      <td>ADANIENT.NS</td>\n",
       "      <td>NaN</td>\n",
       "      <td>NaN</td>\n",
       "      <td>NaN</td>\n",
       "      <td>NaN</td>\n",
       "      <td>NaN</td>\n",
       "      <td>1860224</td>\n",
       "      <td>NaN</td>\n",
       "      <td>NaN</td>\n",
       "    </tr>\n",
       "    <tr>\n",
       "      <th>1</th>\n",
       "      <td>2010-01-05</td>\n",
       "      <td>58.539196</td>\n",
       "      <td>58.779915</td>\n",
       "      <td>57.392611</td>\n",
       "      <td>57.392611</td>\n",
       "      <td>2280286</td>\n",
       "      <td>ADANIENT.NS</td>\n",
       "      <td>NaN</td>\n",
       "      <td>NaN</td>\n",
       "      <td>NaN</td>\n",
       "      <td>NaN</td>\n",
       "      <td>NaN</td>\n",
       "      <td>4140510</td>\n",
       "      <td>NaN</td>\n",
       "      <td>NaN</td>\n",
       "    </tr>\n",
       "    <tr>\n",
       "      <th>2</th>\n",
       "      <td>2010-01-06</td>\n",
       "      <td>64.316452</td>\n",
       "      <td>65.501045</td>\n",
       "      <td>58.279465</td>\n",
       "      <td>58.659547</td>\n",
       "      <td>7326390</td>\n",
       "      <td>ADANIENT.NS</td>\n",
       "      <td>NaN</td>\n",
       "      <td>NaN</td>\n",
       "      <td>NaN</td>\n",
       "      <td>NaN</td>\n",
       "      <td>NaN</td>\n",
       "      <td>11466900</td>\n",
       "      <td>NaN</td>\n",
       "      <td>NaN</td>\n",
       "    </tr>\n",
       "    <tr>\n",
       "      <th>3</th>\n",
       "      <td>2010-01-07</td>\n",
       "      <td>61.662220</td>\n",
       "      <td>65.805136</td>\n",
       "      <td>61.193452</td>\n",
       "      <td>65.805136</td>\n",
       "      <td>4759208</td>\n",
       "      <td>ADANIENT.NS</td>\n",
       "      <td>NaN</td>\n",
       "      <td>NaN</td>\n",
       "      <td>NaN</td>\n",
       "      <td>NaN</td>\n",
       "      <td>NaN</td>\n",
       "      <td>6707692</td>\n",
       "      <td>NaN</td>\n",
       "      <td>NaN</td>\n",
       "    </tr>\n",
       "    <tr>\n",
       "      <th>4</th>\n",
       "      <td>2010-01-08</td>\n",
       "      <td>62.441376</td>\n",
       "      <td>64.360800</td>\n",
       "      <td>61.092081</td>\n",
       "      <td>62.054956</td>\n",
       "      <td>3324076</td>\n",
       "      <td>ADANIENT.NS</td>\n",
       "      <td>NaN</td>\n",
       "      <td>NaN</td>\n",
       "      <td>NaN</td>\n",
       "      <td>NaN</td>\n",
       "      <td>NaN</td>\n",
       "      <td>10031768</td>\n",
       "      <td>NaN</td>\n",
       "      <td>NaN</td>\n",
       "    </tr>\n",
       "  </tbody>\n",
       "</table>\n",
       "</div>"
      ],
      "text/plain": [
       "        Date      Close       High        Low       Open   Volume  \\\n",
       "0 2010-01-04  57.215233  57.519299  54.858717  55.390832  1860224   \n",
       "1 2010-01-05  58.539196  58.779915  57.392611  57.392611  2280286   \n",
       "2 2010-01-06  64.316452  65.501045  58.279465  58.659547  7326390   \n",
       "3 2010-01-07  61.662220  65.805136  61.193452  65.805136  4759208   \n",
       "4 2010-01-08  62.441376  64.360800  61.092081  62.054956  3324076   \n",
       "\n",
       "        Ticker  EMA_10  EMA_20  EMA_50  RSI_14  BB_BW_20       OBV  STOCH_K  \\\n",
       "0  ADANIENT.NS     NaN     NaN     NaN     NaN       NaN   1860224      NaN   \n",
       "1  ADANIENT.NS     NaN     NaN     NaN     NaN       NaN   4140510      NaN   \n",
       "2  ADANIENT.NS     NaN     NaN     NaN     NaN       NaN  11466900      NaN   \n",
       "3  ADANIENT.NS     NaN     NaN     NaN     NaN       NaN   6707692      NaN   \n",
       "4  ADANIENT.NS     NaN     NaN     NaN     NaN       NaN  10031768      NaN   \n",
       "\n",
       "   STOCH_D  \n",
       "0      NaN  \n",
       "1      NaN  \n",
       "2      NaN  \n",
       "3      NaN  \n",
       "4      NaN  "
      ]
     },
     "execution_count": 12,
     "metadata": {},
     "output_type": "execute_result"
    }
   ],
   "source": [
    "data_df = data_df.groupby(\"Ticker\").apply(add_technical_indicators).reset_index(drop=True)\n",
    "data_df.head()"
   ]
  },
  {
   "cell_type": "code",
   "execution_count": 13,
   "id": "a34778a3-8ff0-456e-a721-ea919395bd60",
   "metadata": {},
   "outputs": [
    {
     "data": {
      "text/html": [
       "<div>\n",
       "<style scoped>\n",
       "    .dataframe tbody tr th:only-of-type {\n",
       "        vertical-align: middle;\n",
       "    }\n",
       "\n",
       "    .dataframe tbody tr th {\n",
       "        vertical-align: top;\n",
       "    }\n",
       "\n",
       "    .dataframe thead th {\n",
       "        text-align: right;\n",
       "    }\n",
       "</style>\n",
       "<table border=\"1\" class=\"dataframe\">\n",
       "  <thead>\n",
       "    <tr style=\"text-align: right;\">\n",
       "      <th></th>\n",
       "      <th>Date</th>\n",
       "      <th>Close</th>\n",
       "      <th>High</th>\n",
       "      <th>Low</th>\n",
       "      <th>Open</th>\n",
       "      <th>Volume</th>\n",
       "      <th>Ticker</th>\n",
       "      <th>EMA_10</th>\n",
       "      <th>EMA_20</th>\n",
       "      <th>EMA_50</th>\n",
       "      <th>RSI_14</th>\n",
       "      <th>BB_BW_20</th>\n",
       "      <th>OBV</th>\n",
       "      <th>STOCH_K</th>\n",
       "      <th>STOCH_D</th>\n",
       "    </tr>\n",
       "  </thead>\n",
       "  <tbody>\n",
       "    <tr>\n",
       "      <th>49</th>\n",
       "      <td>2010-03-17</td>\n",
       "      <td>61.022419</td>\n",
       "      <td>62.561762</td>\n",
       "      <td>60.686683</td>\n",
       "      <td>62.561762</td>\n",
       "      <td>2145365</td>\n",
       "      <td>ADANIENT.NS</td>\n",
       "      <td>61.636147</td>\n",
       "      <td>61.719079</td>\n",
       "      <td>60.848122</td>\n",
       "      <td>47.383927</td>\n",
       "      <td>0.087481</td>\n",
       "      <td>-534377</td>\n",
       "      <td>69.091965</td>\n",
       "      <td>70.514244</td>\n",
       "    </tr>\n",
       "    <tr>\n",
       "      <th>50</th>\n",
       "      <td>2010-03-18</td>\n",
       "      <td>60.813370</td>\n",
       "      <td>63.081200</td>\n",
       "      <td>60.179893</td>\n",
       "      <td>63.081200</td>\n",
       "      <td>680293</td>\n",
       "      <td>ADANIENT.NS</td>\n",
       "      <td>61.486551</td>\n",
       "      <td>61.632821</td>\n",
       "      <td>60.846759</td>\n",
       "      <td>46.437999</td>\n",
       "      <td>0.074322</td>\n",
       "      <td>-1214670</td>\n",
       "      <td>67.286685</td>\n",
       "      <td>70.441321</td>\n",
       "    </tr>\n",
       "    <tr>\n",
       "      <th>51</th>\n",
       "      <td>2010-03-19</td>\n",
       "      <td>60.826042</td>\n",
       "      <td>61.161778</td>\n",
       "      <td>59.546426</td>\n",
       "      <td>59.546426</td>\n",
       "      <td>919288</td>\n",
       "      <td>ADANIENT.NS</td>\n",
       "      <td>61.366459</td>\n",
       "      <td>61.555985</td>\n",
       "      <td>60.845947</td>\n",
       "      <td>46.507712</td>\n",
       "      <td>0.071629</td>\n",
       "      <td>-295382</td>\n",
       "      <td>67.396120</td>\n",
       "      <td>67.924923</td>\n",
       "    </tr>\n",
       "    <tr>\n",
       "      <th>52</th>\n",
       "      <td>2010-03-22</td>\n",
       "      <td>59.001633</td>\n",
       "      <td>60.686670</td>\n",
       "      <td>58.665890</td>\n",
       "      <td>60.686670</td>\n",
       "      <td>1875340</td>\n",
       "      <td>ADANIENT.NS</td>\n",
       "      <td>60.936490</td>\n",
       "      <td>61.312713</td>\n",
       "      <td>60.773621</td>\n",
       "      <td>38.698624</td>\n",
       "      <td>0.084850</td>\n",
       "      <td>-2170722</td>\n",
       "      <td>23.330458</td>\n",
       "      <td>52.671088</td>\n",
       "    </tr>\n",
       "    <tr>\n",
       "      <th>53</th>\n",
       "      <td>2010-03-23</td>\n",
       "      <td>58.874947</td>\n",
       "      <td>59.863161</td>\n",
       "      <td>57.791709</td>\n",
       "      <td>59.166343</td>\n",
       "      <td>582769</td>\n",
       "      <td>ADANIENT.NS</td>\n",
       "      <td>60.561664</td>\n",
       "      <td>61.080545</td>\n",
       "      <td>60.699163</td>\n",
       "      <td>38.218733</td>\n",
       "      <td>0.094687</td>\n",
       "      <td>-2753491</td>\n",
       "      <td>21.595969</td>\n",
       "      <td>37.440849</td>\n",
       "    </tr>\n",
       "  </tbody>\n",
       "</table>\n",
       "</div>"
      ],
      "text/plain": [
       "         Date      Close       High        Low       Open   Volume  \\\n",
       "49 2010-03-17  61.022419  62.561762  60.686683  62.561762  2145365   \n",
       "50 2010-03-18  60.813370  63.081200  60.179893  63.081200   680293   \n",
       "51 2010-03-19  60.826042  61.161778  59.546426  59.546426   919288   \n",
       "52 2010-03-22  59.001633  60.686670  58.665890  60.686670  1875340   \n",
       "53 2010-03-23  58.874947  59.863161  57.791709  59.166343   582769   \n",
       "\n",
       "         Ticker     EMA_10     EMA_20     EMA_50     RSI_14  BB_BW_20  \\\n",
       "49  ADANIENT.NS  61.636147  61.719079  60.848122  47.383927  0.087481   \n",
       "50  ADANIENT.NS  61.486551  61.632821  60.846759  46.437999  0.074322   \n",
       "51  ADANIENT.NS  61.366459  61.555985  60.845947  46.507712  0.071629   \n",
       "52  ADANIENT.NS  60.936490  61.312713  60.773621  38.698624  0.084850   \n",
       "53  ADANIENT.NS  60.561664  61.080545  60.699163  38.218733  0.094687   \n",
       "\n",
       "        OBV    STOCH_K    STOCH_D  \n",
       "49  -534377  69.091965  70.514244  \n",
       "50 -1214670  67.286685  70.441321  \n",
       "51  -295382  67.396120  67.924923  \n",
       "52 -2170722  23.330458  52.671088  \n",
       "53 -2753491  21.595969  37.440849  "
      ]
     },
     "execution_count": 13,
     "metadata": {},
     "output_type": "execute_result"
    }
   ],
   "source": [
    "df_full = data_df.dropna()\n",
    "df_full.head()"
   ]
  },
  {
   "cell_type": "code",
   "execution_count": 14,
   "id": "ff5e8619-859b-40e1-b8e4-201b62f4c4c1",
   "metadata": {},
   "outputs": [
    {
     "data": {
      "text/html": [
       "<div>\n",
       "<style scoped>\n",
       "    .dataframe tbody tr th:only-of-type {\n",
       "        vertical-align: middle;\n",
       "    }\n",
       "\n",
       "    .dataframe tbody tr th {\n",
       "        vertical-align: top;\n",
       "    }\n",
       "\n",
       "    .dataframe thead th {\n",
       "        text-align: right;\n",
       "    }\n",
       "</style>\n",
       "<table border=\"1\" class=\"dataframe\">\n",
       "  <thead>\n",
       "    <tr style=\"text-align: right;\">\n",
       "      <th></th>\n",
       "      <th>Date</th>\n",
       "      <th>Close</th>\n",
       "      <th>High</th>\n",
       "      <th>Low</th>\n",
       "      <th>Open</th>\n",
       "      <th>Volume</th>\n",
       "      <th>Ticker</th>\n",
       "      <th>EMA_10</th>\n",
       "      <th>EMA_20</th>\n",
       "      <th>EMA_50</th>\n",
       "      <th>RSI_14</th>\n",
       "      <th>BB_BW_20</th>\n",
       "      <th>OBV</th>\n",
       "      <th>STOCH_K</th>\n",
       "      <th>STOCH_D</th>\n",
       "    </tr>\n",
       "  </thead>\n",
       "  <tbody>\n",
       "    <tr>\n",
       "      <th>177831</th>\n",
       "      <td>2025-04-24</td>\n",
       "      <td>238.067322</td>\n",
       "      <td>240.421019</td>\n",
       "      <td>236.841434</td>\n",
       "      <td>240.077780</td>\n",
       "      <td>23000820</td>\n",
       "      <td>WIPRO.NS</td>\n",
       "      <td>238.472866</td>\n",
       "      <td>245.315834</td>\n",
       "      <td>261.398816</td>\n",
       "      <td>40.321420</td>\n",
       "      <td>0.207178</td>\n",
       "      <td>5003328523</td>\n",
       "      <td>39.280972</td>\n",
       "      <td>31.616889</td>\n",
       "    </tr>\n",
       "    <tr>\n",
       "      <th>177832</th>\n",
       "      <td>2025-04-25</td>\n",
       "      <td>236.252991</td>\n",
       "      <td>241.401717</td>\n",
       "      <td>233.457977</td>\n",
       "      <td>239.244159</td>\n",
       "      <td>16620430</td>\n",
       "      <td>WIPRO.NS</td>\n",
       "      <td>238.069252</td>\n",
       "      <td>244.452706</td>\n",
       "      <td>260.412705</td>\n",
       "      <td>39.176725</td>\n",
       "      <td>0.199915</td>\n",
       "      <td>4986708093</td>\n",
       "      <td>39.692260</td>\n",
       "      <td>40.172617</td>\n",
       "    </tr>\n",
       "    <tr>\n",
       "      <th>177833</th>\n",
       "      <td>2025-04-28</td>\n",
       "      <td>235.860718</td>\n",
       "      <td>237.282744</td>\n",
       "      <td>234.144476</td>\n",
       "      <td>235.860718</td>\n",
       "      <td>14218414</td>\n",
       "      <td>WIPRO.NS</td>\n",
       "      <td>237.667700</td>\n",
       "      <td>243.634421</td>\n",
       "      <td>259.449882</td>\n",
       "      <td>38.919462</td>\n",
       "      <td>0.185643</td>\n",
       "      <td>4972489679</td>\n",
       "      <td>48.169550</td>\n",
       "      <td>42.380927</td>\n",
       "    </tr>\n",
       "    <tr>\n",
       "      <th>177834</th>\n",
       "      <td>2025-04-29</td>\n",
       "      <td>236.743347</td>\n",
       "      <td>238.900921</td>\n",
       "      <td>235.223259</td>\n",
       "      <td>236.939501</td>\n",
       "      <td>16647246</td>\n",
       "      <td>WIPRO.NS</td>\n",
       "      <td>237.499636</td>\n",
       "      <td>242.978129</td>\n",
       "      <td>258.559430</td>\n",
       "      <td>39.876151</td>\n",
       "      <td>0.171445</td>\n",
       "      <td>4989136925</td>\n",
       "      <td>62.325519</td>\n",
       "      <td>50.062443</td>\n",
       "    </tr>\n",
       "    <tr>\n",
       "      <th>177835</th>\n",
       "      <td>2025-04-30</td>\n",
       "      <td>236.841431</td>\n",
       "      <td>238.704773</td>\n",
       "      <td>234.585795</td>\n",
       "      <td>236.890469</td>\n",
       "      <td>14206640</td>\n",
       "      <td>WIPRO.NS</td>\n",
       "      <td>237.379962</td>\n",
       "      <td>242.393681</td>\n",
       "      <td>257.707743</td>\n",
       "      <td>39.988638</td>\n",
       "      <td>0.142945</td>\n",
       "      <td>5003343565</td>\n",
       "      <td>53.890512</td>\n",
       "      <td>54.795194</td>\n",
       "    </tr>\n",
       "  </tbody>\n",
       "</table>\n",
       "</div>"
      ],
      "text/plain": [
       "             Date       Close        High         Low        Open    Volume  \\\n",
       "177831 2025-04-24  238.067322  240.421019  236.841434  240.077780  23000820   \n",
       "177832 2025-04-25  236.252991  241.401717  233.457977  239.244159  16620430   \n",
       "177833 2025-04-28  235.860718  237.282744  234.144476  235.860718  14218414   \n",
       "177834 2025-04-29  236.743347  238.900921  235.223259  236.939501  16647246   \n",
       "177835 2025-04-30  236.841431  238.704773  234.585795  236.890469  14206640   \n",
       "\n",
       "          Ticker      EMA_10      EMA_20      EMA_50     RSI_14  BB_BW_20  \\\n",
       "177831  WIPRO.NS  238.472866  245.315834  261.398816  40.321420  0.207178   \n",
       "177832  WIPRO.NS  238.069252  244.452706  260.412705  39.176725  0.199915   \n",
       "177833  WIPRO.NS  237.667700  243.634421  259.449882  38.919462  0.185643   \n",
       "177834  WIPRO.NS  237.499636  242.978129  258.559430  39.876151  0.171445   \n",
       "177835  WIPRO.NS  237.379962  242.393681  257.707743  39.988638  0.142945   \n",
       "\n",
       "               OBV    STOCH_K    STOCH_D  \n",
       "177831  5003328523  39.280972  31.616889  \n",
       "177832  4986708093  39.692260  40.172617  \n",
       "177833  4972489679  48.169550  42.380927  \n",
       "177834  4989136925  62.325519  50.062443  \n",
       "177835  5003343565  53.890512  54.795194  "
      ]
     },
     "execution_count": 14,
     "metadata": {},
     "output_type": "execute_result"
    }
   ],
   "source": [
    "df_full.tail()"
   ]
  },
  {
   "cell_type": "code",
   "execution_count": 15,
   "id": "b0b4987d-9b8d-40ce-9fc2-bb10ff550c8c",
   "metadata": {},
   "outputs": [],
   "source": [
    "features = ['Close', 'EMA_10', 'EMA_20', 'EMA_50', 'RSI_14', 'BB_BW_20', 'OBV', 'STOCH_K', 'STOCH_D']"
   ]
  },
  {
   "cell_type": "code",
   "execution_count": 16,
   "id": "bb6a98aa-73c7-412c-bcbd-f54f9c98ed1e",
   "metadata": {},
   "outputs": [],
   "source": [
    "from sklearn.preprocessing import StandardScaler\n",
    "\n",
    "def normalize_features(df, feature_cols):\n",
    "    df = df.copy()\n",
    "    scalers = {}\n",
    "    \n",
    "    for ticker in df[\"Ticker\"].unique():\n",
    "        mask = df[\"Ticker\"] == ticker\n",
    "        scaler = StandardScaler()\n",
    "        df.loc[mask, feature_cols] = scaler.fit_transform(df.loc[mask, feature_cols])\n",
    "        scalers[ticker] = scaler  # Save for inverse transform if needed later\n",
    "\n",
    "    return df, scalers"
   ]
  },
  {
   "cell_type": "code",
   "execution_count": 17,
   "id": "c07799ec-a0bc-406d-9fdb-c15ee78a8f72",
   "metadata": {},
   "outputs": [],
   "source": [
    "df_full_v2, scalers = normalize_features(df_full, features)"
   ]
  },
  {
   "cell_type": "code",
   "execution_count": 18,
   "id": "89b41646-75a1-48c3-8b95-cc9d68176115",
   "metadata": {},
   "outputs": [
    {
     "data": {
      "text/html": [
       "<div>\n",
       "<style scoped>\n",
       "    .dataframe tbody tr th:only-of-type {\n",
       "        vertical-align: middle;\n",
       "    }\n",
       "\n",
       "    .dataframe tbody tr th {\n",
       "        vertical-align: top;\n",
       "    }\n",
       "\n",
       "    .dataframe thead th {\n",
       "        text-align: right;\n",
       "    }\n",
       "</style>\n",
       "<table border=\"1\" class=\"dataframe\">\n",
       "  <thead>\n",
       "    <tr style=\"text-align: right;\">\n",
       "      <th></th>\n",
       "      <th>Date</th>\n",
       "      <th>Close</th>\n",
       "      <th>High</th>\n",
       "      <th>Low</th>\n",
       "      <th>Open</th>\n",
       "      <th>Volume</th>\n",
       "      <th>Ticker</th>\n",
       "      <th>EMA_10</th>\n",
       "      <th>EMA_20</th>\n",
       "      <th>EMA_50</th>\n",
       "      <th>RSI_14</th>\n",
       "      <th>BB_BW_20</th>\n",
       "      <th>OBV</th>\n",
       "      <th>STOCH_K</th>\n",
       "      <th>STOCH_D</th>\n",
       "    </tr>\n",
       "  </thead>\n",
       "  <tbody>\n",
       "    <tr>\n",
       "      <th>49</th>\n",
       "      <td>2010-03-17</td>\n",
       "      <td>-0.605333</td>\n",
       "      <td>62.561762</td>\n",
       "      <td>60.686683</td>\n",
       "      <td>62.561762</td>\n",
       "      <td>2145365</td>\n",
       "      <td>ADANIENT.NS</td>\n",
       "      <td>-0.604050</td>\n",
       "      <td>-0.603207</td>\n",
       "      <td>-0.601925</td>\n",
       "      <td>-0.391238</td>\n",
       "      <td>-0.638593</td>\n",
       "      <td>-1.421678</td>\n",
       "      <td>0.522475</td>\n",
       "      <td>0.606031</td>\n",
       "    </tr>\n",
       "    <tr>\n",
       "      <th>50</th>\n",
       "      <td>2010-03-18</td>\n",
       "      <td>-0.605523</td>\n",
       "      <td>63.081200</td>\n",
       "      <td>60.179893</td>\n",
       "      <td>63.081200</td>\n",
       "      <td>680293</td>\n",
       "      <td>ADANIENT.NS</td>\n",
       "      <td>-0.604186</td>\n",
       "      <td>-0.603286</td>\n",
       "      <td>-0.601926</td>\n",
       "      <td>-0.457804</td>\n",
       "      <td>-0.705266</td>\n",
       "      <td>-1.422041</td>\n",
       "      <td>0.460467</td>\n",
       "      <td>0.603373</td>\n",
       "    </tr>\n",
       "    <tr>\n",
       "      <th>51</th>\n",
       "      <td>2010-03-19</td>\n",
       "      <td>-0.605512</td>\n",
       "      <td>61.161778</td>\n",
       "      <td>59.546426</td>\n",
       "      <td>59.546426</td>\n",
       "      <td>919288</td>\n",
       "      <td>ADANIENT.NS</td>\n",
       "      <td>-0.604295</td>\n",
       "      <td>-0.603356</td>\n",
       "      <td>-0.601927</td>\n",
       "      <td>-0.452899</td>\n",
       "      <td>-0.718910</td>\n",
       "      <td>-1.421550</td>\n",
       "      <td>0.464226</td>\n",
       "      <td>0.511641</td>\n",
       "    </tr>\n",
       "    <tr>\n",
       "      <th>52</th>\n",
       "      <td>2010-03-22</td>\n",
       "      <td>-0.607168</td>\n",
       "      <td>60.686670</td>\n",
       "      <td>58.665890</td>\n",
       "      <td>60.686670</td>\n",
       "      <td>1875340</td>\n",
       "      <td>ADANIENT.NS</td>\n",
       "      <td>-0.604687</td>\n",
       "      <td>-0.603578</td>\n",
       "      <td>-0.601993</td>\n",
       "      <td>-1.002438</td>\n",
       "      <td>-0.651923</td>\n",
       "      <td>-1.422552</td>\n",
       "      <td>-1.049343</td>\n",
       "      <td>-0.044418</td>\n",
       "    </tr>\n",
       "    <tr>\n",
       "      <th>53</th>\n",
       "      <td>2010-03-23</td>\n",
       "      <td>-0.607283</td>\n",
       "      <td>59.863161</td>\n",
       "      <td>57.791709</td>\n",
       "      <td>59.166343</td>\n",
       "      <td>582769</td>\n",
       "      <td>ADANIENT.NS</td>\n",
       "      <td>-0.605028</td>\n",
       "      <td>-0.603790</td>\n",
       "      <td>-0.602062</td>\n",
       "      <td>-1.036209</td>\n",
       "      <td>-0.602080</td>\n",
       "      <td>-1.422864</td>\n",
       "      <td>-1.108920</td>\n",
       "      <td>-0.599616</td>\n",
       "    </tr>\n",
       "  </tbody>\n",
       "</table>\n",
       "</div>"
      ],
      "text/plain": [
       "         Date     Close       High        Low       Open   Volume  \\\n",
       "49 2010-03-17 -0.605333  62.561762  60.686683  62.561762  2145365   \n",
       "50 2010-03-18 -0.605523  63.081200  60.179893  63.081200   680293   \n",
       "51 2010-03-19 -0.605512  61.161778  59.546426  59.546426   919288   \n",
       "52 2010-03-22 -0.607168  60.686670  58.665890  60.686670  1875340   \n",
       "53 2010-03-23 -0.607283  59.863161  57.791709  59.166343   582769   \n",
       "\n",
       "         Ticker    EMA_10    EMA_20    EMA_50    RSI_14  BB_BW_20       OBV  \\\n",
       "49  ADANIENT.NS -0.604050 -0.603207 -0.601925 -0.391238 -0.638593 -1.421678   \n",
       "50  ADANIENT.NS -0.604186 -0.603286 -0.601926 -0.457804 -0.705266 -1.422041   \n",
       "51  ADANIENT.NS -0.604295 -0.603356 -0.601927 -0.452899 -0.718910 -1.421550   \n",
       "52  ADANIENT.NS -0.604687 -0.603578 -0.601993 -1.002438 -0.651923 -1.422552   \n",
       "53  ADANIENT.NS -0.605028 -0.603790 -0.602062 -1.036209 -0.602080 -1.422864   \n",
       "\n",
       "     STOCH_K   STOCH_D  \n",
       "49  0.522475  0.606031  \n",
       "50  0.460467  0.603373  \n",
       "51  0.464226  0.511641  \n",
       "52 -1.049343 -0.044418  \n",
       "53 -1.108920 -0.599616  "
      ]
     },
     "execution_count": 18,
     "metadata": {},
     "output_type": "execute_result"
    }
   ],
   "source": [
    "df_full_v2.head()"
   ]
  },
  {
   "cell_type": "code",
   "execution_count": 20,
   "id": "57f4665d-ae84-4801-b7cd-0ad8bd5d3b15",
   "metadata": {},
   "outputs": [
    {
     "name": "stdout",
     "output_type": "stream",
     "text": [
      "Requirement already satisfied: joblib in d:\\apps\\miniconda\\envs\\new_env\\lib\\site-packages (1.4.2)\n",
      "Note: you may need to restart the kernel to use updated packages.\n"
     ]
    }
   ],
   "source": [
    "%pip install joblib"
   ]
  },
  {
   "cell_type": "code",
   "execution_count": 19,
   "id": "77926228-8e62-4da9-a9db-45e782b73af2",
   "metadata": {},
   "outputs": [
    {
     "data": {
      "text/plain": [
       "['E:\\\\My_Career\\\\Projects\\\\ML_stock_market\\\\data\\\\scalers.pkl']"
      ]
     },
     "execution_count": 19,
     "metadata": {},
     "output_type": "execute_result"
    }
   ],
   "source": [
    "import joblib\n",
    "joblib.dump(scalers, \"E:\\My_Career\\Projects\\ML_stock_market\\data\\\\scalers.pkl\")"
   ]
  },
  {
   "cell_type": "code",
   "execution_count": 20,
   "id": "75c18052-e436-4552-b898-659b27b8be3e",
   "metadata": {},
   "outputs": [],
   "source": [
    "df_full_v2[\"Date\"] = pd.to_datetime(df_full_v2[\"Date\"])"
   ]
  },
  {
   "cell_type": "code",
   "execution_count": 21,
   "id": "bf51d694-09aa-431d-8cf8-a62ec0b06903",
   "metadata": {},
   "outputs": [
    {
     "name": "stdout",
     "output_type": "stream",
     "text": [
      "2010-03-16 00:00:00\n"
     ]
    }
   ],
   "source": [
    "train_start = df_full_v2[\"Date\"].min()\n",
    "print(train_start)"
   ]
  },
  {
   "cell_type": "code",
   "execution_count": 22,
   "id": "5497b965-dde4-4ed9-a835-3d092d8639e5",
   "metadata": {},
   "outputs": [
    {
     "data": {
      "text/plain": [
       "Timestamp('2025-04-30 00:00:00')"
      ]
     },
     "execution_count": 22,
     "metadata": {},
     "output_type": "execute_result"
    }
   ],
   "source": [
    "df_full_v2[\"Date\"].max()"
   ]
  },
  {
   "cell_type": "code",
   "execution_count": 23,
   "id": "2869071e-6ead-4bca-8260-5e53c14e7caf",
   "metadata": {},
   "outputs": [],
   "source": [
    "train_end = \"2019-06-30\"\n",
    "val_start = \"2022-03-01\"\n",
    "val_end = \"2023-10-31\"\n",
    "test_start = \"2024-04-01\"\n",
    "test_end = \"2025-04-30\""
   ]
  },
  {
   "cell_type": "code",
   "execution_count": 24,
   "id": "0c8791c1-1d8c-4655-827b-195db8d3c65b",
   "metadata": {},
   "outputs": [
    {
     "name": "stdout",
     "output_type": "stream",
     "text": [
      "2010-03-16 00:00:00 2019-06-28 00:00:00\n"
     ]
    }
   ],
   "source": [
    "train_df = df_full_v2[(df_full_v2['Date']>='2010-03-16') & (df_full_v2['Date']<=train_end)]\n",
    "print(train_df['Date'].min(), train_df['Date'].max())"
   ]
  },
  {
   "cell_type": "code",
   "execution_count": 25,
   "id": "982bb7cb-cdc9-400a-b761-9b988ed57ad6",
   "metadata": {},
   "outputs": [
    {
     "name": "stdout",
     "output_type": "stream",
     "text": [
      "2022-03-02 00:00:00 2023-10-31 00:00:00\n"
     ]
    }
   ],
   "source": [
    "val_df = df_full_v2[(df_full_v2['Date']>=val_start) & (df_full_v2['Date']<=val_end)]\n",
    "print(val_df['Date'].min(), val_df['Date'].max())"
   ]
  },
  {
   "cell_type": "code",
   "execution_count": null,
   "id": "d13a6e95-b367-492f-b666-3cd18e992c5e",
   "metadata": {},
   "outputs": [],
   "source": []
  },
  {
   "cell_type": "code",
   "execution_count": 19,
   "id": "2ffc6090-0825-4d55-b873-636b50f60702",
   "metadata": {},
   "outputs": [],
   "source": [
    "def global_time_split(df, train_ratio=0.7, val_ratio=0.15):\n",
    "    df = df.copy()\n",
    "    df[\"Date\"] = pd.to_datetime(df[\"Date\"])\n",
    "\n",
    "    min_date = df[\"Date\"].min()\n",
    "    max_date = df[\"Date\"].max()\n",
    "    total_days = (max_date - min_date).days\n",
    "\n",
    "    train_cutoff = min_date + pd.Timedelta(days=int(total_days * train_ratio))\n",
    "    val_cutoff = train_cutoff + pd.Timedelta(days=int(total_days * val_ratio))\n",
    "\n",
    "    train_df = df[df[\"Date\"] <= train_cutoff]\n",
    "    val_df = df[(df[\"Date\"] > train_cutoff+pd.Timedelta(days=int(100))) & (df[\"Date\"] <= val_cutoff)]\n",
    "    test_df = df[df[\"Date\"] > val_cutoff+pd.Timedelta(days=int(100))]\n",
    "\n",
    "    return train_df.reset_index(drop=True), val_df.reset_index(drop=True), test_df.reset_index(drop=True)"
   ]
  },
  {
   "cell_type": "code",
   "execution_count": 20,
   "id": "e4e49d22-30e2-48c2-9c7d-825d2ddc1d9e",
   "metadata": {},
   "outputs": [],
   "source": [
    "train_df, val_df, test_df = global_time_split(df_full_v2)"
   ]
  },
  {
   "cell_type": "code",
   "execution_count": 21,
   "id": "4aeb880e-2e12-4b39-ae70-b83d5ca7a606",
   "metadata": {},
   "outputs": [
    {
     "name": "stdout",
     "output_type": "stream",
     "text": [
      "Train: 2010-03-16 00:00:00 → 2020-07-23 00:00:00\n",
      "Val:   2020-11-02 00:00:00 → 2022-10-11 00:00:00\n",
      "Test:  2023-01-20 00:00:00 → 2024-12-31 00:00:00\n"
     ]
    }
   ],
   "source": [
    "print(\"Train:\", train_df[\"Date\"].min(), \"→\", train_df[\"Date\"].max())\n",
    "print(\"Val:  \", val_df[\"Date\"].min(), \"→\", val_df[\"Date\"].max())\n",
    "print(\"Test: \", test_df[\"Date\"].min(), \"→\", test_df[\"Date\"].max())"
   ]
  },
  {
   "cell_type": "code",
   "execution_count": 22,
   "id": "3fb4fdad-2dde-4cd5-95b3-b83793f180a3",
   "metadata": {},
   "outputs": [],
   "source": [
    "train_df[features+['Date', 'Ticker']].to_csv(\"E:\\My_Career\\Projects\\ML_stock_market\\data\\preprocessed\\\\train.csv\", index=False)\n",
    "test_df[features+['Date', 'Ticker']].to_csv(\"E:\\My_Career\\Projects\\ML_stock_market\\data\\preprocessed\\\\test.csv\", index=False)\n",
    "val_df[features+['Date', 'Ticker']].to_csv(\"E:\\My_Career\\Projects\\ML_stock_market\\data\\preprocessed\\\\val.csv\", index=False)"
   ]
  },
  {
   "cell_type": "code",
   "execution_count": null,
   "id": "68e74937-0b9c-4bcb-bc2b-f8b6c22b44d1",
   "metadata": {},
   "outputs": [],
   "source": []
  }
 ],
 "metadata": {
  "kernelspec": {
   "display_name": "python3.10-new_env",
   "language": "python",
   "name": "python3.10-new_env"
  },
  "language_info": {
   "codemirror_mode": {
    "name": "ipython",
    "version": 3
   },
   "file_extension": ".py",
   "mimetype": "text/x-python",
   "name": "python",
   "nbconvert_exporter": "python",
   "pygments_lexer": "ipython3",
   "version": "3.10.16"
  }
 },
 "nbformat": 4,
 "nbformat_minor": 5
}
